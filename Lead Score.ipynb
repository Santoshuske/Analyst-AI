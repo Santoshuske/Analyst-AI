{
 "cells": [
  {
   "cell_type": "code",
   "execution_count": 1,
   "id": "f8138793",
   "metadata": {},
   "outputs": [],
   "source": [
    "import pandas as pd"
   ]
  },
  {
   "cell_type": "code",
   "execution_count": 2,
   "id": "5a2c5631",
   "metadata": {},
   "outputs": [],
   "source": [
    "#read dataset\n",
    "df=pd.read_csv('Data_Science_Internship - Dump.csv')"
   ]
  },
  {
   "cell_type": "code",
   "execution_count": 3,
   "id": "268feec1",
   "metadata": {},
   "outputs": [
    {
     "data": {
      "text/html": [
       "<div>\n",
       "<style scoped>\n",
       "    .dataframe tbody tr th:only-of-type {\n",
       "        vertical-align: middle;\n",
       "    }\n",
       "\n",
       "    .dataframe tbody tr th {\n",
       "        vertical-align: top;\n",
       "    }\n",
       "\n",
       "    .dataframe thead th {\n",
       "        text-align: right;\n",
       "    }\n",
       "</style>\n",
       "<table border=\"1\" class=\"dataframe\">\n",
       "  <thead>\n",
       "    <tr style=\"text-align: right;\">\n",
       "      <th></th>\n",
       "      <th>Unnamed: 0</th>\n",
       "      <th>Agent_id</th>\n",
       "      <th>status</th>\n",
       "      <th>lost_reason</th>\n",
       "      <th>budget</th>\n",
       "      <th>lease</th>\n",
       "      <th>movein</th>\n",
       "      <th>source</th>\n",
       "      <th>source_city</th>\n",
       "      <th>source_country</th>\n",
       "      <th>utm_source</th>\n",
       "      <th>utm_medium</th>\n",
       "      <th>des_city</th>\n",
       "      <th>des_country</th>\n",
       "      <th>room_type</th>\n",
       "      <th>lead_id</th>\n",
       "    </tr>\n",
       "  </thead>\n",
       "  <tbody>\n",
       "    <tr>\n",
       "      <th>0</th>\n",
       "      <td>0</td>\n",
       "      <td>1deba9e96f404694373de9749ddd1ca8aa7bb823145a6f...</td>\n",
       "      <td>LOST</td>\n",
       "      <td>Not responding</td>\n",
       "      <td>NaN</td>\n",
       "      <td>NaN</td>\n",
       "      <td>NaN</td>\n",
       "      <td>9b2d5b4678781e53038e91ea5324530a03f27dc1d0e5f6...</td>\n",
       "      <td>9b2d5b4678781e53038e91ea5324530a03f27dc1d0e5f6...</td>\n",
       "      <td>9b2d5b4678781e53038e91ea5324530a03f27dc1d0e5f6...</td>\n",
       "      <td>3d59f7548e1af2151b64135003ce63c0a484c26b9b8b16...</td>\n",
       "      <td>268ad70eb5bc4737a2ae28162cbca30118cc94520e49ef...</td>\n",
       "      <td>ecc0e7dc084f141b29479058967d0bc07dee25d9690a98...</td>\n",
       "      <td>8d23a6e37e0a6431a8f1b43a91026dcff51170a89a6512...</td>\n",
       "      <td>NaN</td>\n",
       "      <td>cd5dc0d9393f3980d11d4ba6f88f8110c2b7a7f7796307...</td>\n",
       "    </tr>\n",
       "    <tr>\n",
       "      <th>1</th>\n",
       "      <td>1</td>\n",
       "      <td>299ae77a4ef350ae0dd37d6bba1c002d03444fb1edb236...</td>\n",
       "      <td>LOST</td>\n",
       "      <td>Low budget</td>\n",
       "      <td>NaN</td>\n",
       "      <td>NaN</td>\n",
       "      <td>NaN</td>\n",
       "      <td>9b2d5b4678781e53038e91ea5324530a03f27dc1d0e5f6...</td>\n",
       "      <td>9b2d5b4678781e53038e91ea5324530a03f27dc1d0e5f6...</td>\n",
       "      <td>9b2d5b4678781e53038e91ea5324530a03f27dc1d0e5f6...</td>\n",
       "      <td>3d59f7548e1af2151b64135003ce63c0a484c26b9b8b16...</td>\n",
       "      <td>268ad70eb5bc4737a2ae28162cbca30118cc94520e49ef...</td>\n",
       "      <td>5372372f3bf5896820cb2819300c3e681820d82c6efc54...</td>\n",
       "      <td>8d23a6e37e0a6431a8f1b43a91026dcff51170a89a6512...</td>\n",
       "      <td>NaN</td>\n",
       "      <td>b94693673a5f7178d1b114e4004ad52377d3244dd24a3d...</td>\n",
       "    </tr>\n",
       "    <tr>\n",
       "      <th>2</th>\n",
       "      <td>2</td>\n",
       "      <td>c213697430c006013012dd2aca82dd9732aa0a1a6bca13...</td>\n",
       "      <td>LOST</td>\n",
       "      <td>Not responding</td>\n",
       "      <td>£121 - £180 Per Week</td>\n",
       "      <td>Full Year Course Stay 40 - 44 weeks</td>\n",
       "      <td>31/08/22</td>\n",
       "      <td>7aae3e886e89fc1187a5c47d6cea1c22998ee610ade1f2...</td>\n",
       "      <td>9b8cc3c63cdf447e463c11544924bf027945cbd29675f7...</td>\n",
       "      <td>e09e10e67812e9d236ad900e5d46b4308fc62f5d69446a...</td>\n",
       "      <td>bbdefa2950f49882f295b1285d4fa9dec45fc4144bfb07...</td>\n",
       "      <td>09076eb7665d1fb9389c7c4517fee0b00e43092eb34821...</td>\n",
       "      <td>11ab03a1a8c367191355c152f39fe28cae5e426fce49ef...</td>\n",
       "      <td>8d23a6e37e0a6431a8f1b43a91026dcff51170a89a6512...</td>\n",
       "      <td>Ensuite</td>\n",
       "      <td>96ea4e2bf04496c044745938c0299c264c3f4ba079e572...</td>\n",
       "    </tr>\n",
       "    <tr>\n",
       "      <th>3</th>\n",
       "      <td>3</td>\n",
       "      <td>eac9815a500f908736d303e23aa227f0957177b0e6756b...</td>\n",
       "      <td>LOST</td>\n",
       "      <td>Low budget</td>\n",
       "      <td>0-0</td>\n",
       "      <td>0</td>\n",
       "      <td>NaN</td>\n",
       "      <td>ba2d0a29556ac20f86f45e4543c0825428cba33fd7a9ea...</td>\n",
       "      <td>a5f0d2d08eb0592087e3a3a2f9c1ba2c67cc30f2efd2bd...</td>\n",
       "      <td>e09e10e67812e9d236ad900e5d46b4308fc62f5d69446a...</td>\n",
       "      <td>bbdefa2950f49882f295b1285d4fa9dec45fc4144bfb07...</td>\n",
       "      <td>09076eb7665d1fb9389c7c4517fee0b00e43092eb34821...</td>\n",
       "      <td>19372fa44c57a01c37a5a8418779ca3d99b0b59731fb35...</td>\n",
       "      <td>8d23a6e37e0a6431a8f1b43a91026dcff51170a89a6512...</td>\n",
       "      <td>NaN</td>\n",
       "      <td>1d2b34d8add02a182a4129023766ca4585a8ddced0e5b3...</td>\n",
       "    </tr>\n",
       "    <tr>\n",
       "      <th>4</th>\n",
       "      <td>4</td>\n",
       "      <td>1deba9e96f404694373de9749ddd1ca8aa7bb823145a6f...</td>\n",
       "      <td>LOST</td>\n",
       "      <td>Junk lead</td>\n",
       "      <td>NaN</td>\n",
       "      <td>NaN</td>\n",
       "      <td>NaN</td>\n",
       "      <td>9b2d5b4678781e53038e91ea5324530a03f27dc1d0e5f6...</td>\n",
       "      <td>9b2d5b4678781e53038e91ea5324530a03f27dc1d0e5f6...</td>\n",
       "      <td>9b2d5b4678781e53038e91ea5324530a03f27dc1d0e5f6...</td>\n",
       "      <td>3d59f7548e1af2151b64135003ce63c0a484c26b9b8b16...</td>\n",
       "      <td>268ad70eb5bc4737a2ae28162cbca30118cc94520e49ef...</td>\n",
       "      <td>9b2d5b4678781e53038e91ea5324530a03f27dc1d0e5f6...</td>\n",
       "      <td>9b2d5b4678781e53038e91ea5324530a03f27dc1d0e5f6...</td>\n",
       "      <td>NaN</td>\n",
       "      <td>fc10fffd29cfbe93c55158fb47752a7501c211d253468c...</td>\n",
       "    </tr>\n",
       "  </tbody>\n",
       "</table>\n",
       "</div>"
      ],
      "text/plain": [
       "   Unnamed: 0                                           Agent_id status  \\\n",
       "0           0  1deba9e96f404694373de9749ddd1ca8aa7bb823145a6f...   LOST   \n",
       "1           1  299ae77a4ef350ae0dd37d6bba1c002d03444fb1edb236...   LOST   \n",
       "2           2  c213697430c006013012dd2aca82dd9732aa0a1a6bca13...   LOST   \n",
       "3           3  eac9815a500f908736d303e23aa227f0957177b0e6756b...   LOST   \n",
       "4           4  1deba9e96f404694373de9749ddd1ca8aa7bb823145a6f...   LOST   \n",
       "\n",
       "      lost_reason                budget                                lease  \\\n",
       "0  Not responding                   NaN                                  NaN   \n",
       "1      Low budget                   NaN                                  NaN   \n",
       "2  Not responding  £121 - £180 Per Week  Full Year Course Stay 40 - 44 weeks   \n",
       "3      Low budget                   0-0                                    0   \n",
       "4       Junk lead                   NaN                                  NaN   \n",
       "\n",
       "     movein                                             source  \\\n",
       "0       NaN  9b2d5b4678781e53038e91ea5324530a03f27dc1d0e5f6...   \n",
       "1       NaN  9b2d5b4678781e53038e91ea5324530a03f27dc1d0e5f6...   \n",
       "2  31/08/22  7aae3e886e89fc1187a5c47d6cea1c22998ee610ade1f2...   \n",
       "3       NaN  ba2d0a29556ac20f86f45e4543c0825428cba33fd7a9ea...   \n",
       "4       NaN  9b2d5b4678781e53038e91ea5324530a03f27dc1d0e5f6...   \n",
       "\n",
       "                                         source_city  \\\n",
       "0  9b2d5b4678781e53038e91ea5324530a03f27dc1d0e5f6...   \n",
       "1  9b2d5b4678781e53038e91ea5324530a03f27dc1d0e5f6...   \n",
       "2  9b8cc3c63cdf447e463c11544924bf027945cbd29675f7...   \n",
       "3  a5f0d2d08eb0592087e3a3a2f9c1ba2c67cc30f2efd2bd...   \n",
       "4  9b2d5b4678781e53038e91ea5324530a03f27dc1d0e5f6...   \n",
       "\n",
       "                                      source_country  \\\n",
       "0  9b2d5b4678781e53038e91ea5324530a03f27dc1d0e5f6...   \n",
       "1  9b2d5b4678781e53038e91ea5324530a03f27dc1d0e5f6...   \n",
       "2  e09e10e67812e9d236ad900e5d46b4308fc62f5d69446a...   \n",
       "3  e09e10e67812e9d236ad900e5d46b4308fc62f5d69446a...   \n",
       "4  9b2d5b4678781e53038e91ea5324530a03f27dc1d0e5f6...   \n",
       "\n",
       "                                          utm_source  \\\n",
       "0  3d59f7548e1af2151b64135003ce63c0a484c26b9b8b16...   \n",
       "1  3d59f7548e1af2151b64135003ce63c0a484c26b9b8b16...   \n",
       "2  bbdefa2950f49882f295b1285d4fa9dec45fc4144bfb07...   \n",
       "3  bbdefa2950f49882f295b1285d4fa9dec45fc4144bfb07...   \n",
       "4  3d59f7548e1af2151b64135003ce63c0a484c26b9b8b16...   \n",
       "\n",
       "                                          utm_medium  \\\n",
       "0  268ad70eb5bc4737a2ae28162cbca30118cc94520e49ef...   \n",
       "1  268ad70eb5bc4737a2ae28162cbca30118cc94520e49ef...   \n",
       "2  09076eb7665d1fb9389c7c4517fee0b00e43092eb34821...   \n",
       "3  09076eb7665d1fb9389c7c4517fee0b00e43092eb34821...   \n",
       "4  268ad70eb5bc4737a2ae28162cbca30118cc94520e49ef...   \n",
       "\n",
       "                                            des_city  \\\n",
       "0  ecc0e7dc084f141b29479058967d0bc07dee25d9690a98...   \n",
       "1  5372372f3bf5896820cb2819300c3e681820d82c6efc54...   \n",
       "2  11ab03a1a8c367191355c152f39fe28cae5e426fce49ef...   \n",
       "3  19372fa44c57a01c37a5a8418779ca3d99b0b59731fb35...   \n",
       "4  9b2d5b4678781e53038e91ea5324530a03f27dc1d0e5f6...   \n",
       "\n",
       "                                         des_country room_type  \\\n",
       "0  8d23a6e37e0a6431a8f1b43a91026dcff51170a89a6512...       NaN   \n",
       "1  8d23a6e37e0a6431a8f1b43a91026dcff51170a89a6512...       NaN   \n",
       "2  8d23a6e37e0a6431a8f1b43a91026dcff51170a89a6512...   Ensuite   \n",
       "3  8d23a6e37e0a6431a8f1b43a91026dcff51170a89a6512...       NaN   \n",
       "4  9b2d5b4678781e53038e91ea5324530a03f27dc1d0e5f6...       NaN   \n",
       "\n",
       "                                             lead_id  \n",
       "0  cd5dc0d9393f3980d11d4ba6f88f8110c2b7a7f7796307...  \n",
       "1  b94693673a5f7178d1b114e4004ad52377d3244dd24a3d...  \n",
       "2  96ea4e2bf04496c044745938c0299c264c3f4ba079e572...  \n",
       "3  1d2b34d8add02a182a4129023766ca4585a8ddced0e5b3...  \n",
       "4  fc10fffd29cfbe93c55158fb47752a7501c211d253468c...  "
      ]
     },
     "execution_count": 3,
     "metadata": {},
     "output_type": "execute_result"
    }
   ],
   "source": [
    "df.head()"
   ]
  },
  {
   "cell_type": "code",
   "execution_count": 4,
   "id": "ca897d5e",
   "metadata": {},
   "outputs": [],
   "source": [
    "#drop unamed column\n",
    "df.drop('Unnamed: 0',axis=1,inplace=True)"
   ]
  },
  {
   "cell_type": "code",
   "execution_count": 5,
   "id": "dd3215da",
   "metadata": {},
   "outputs": [
    {
     "data": {
      "text/html": [
       "<div>\n",
       "<style scoped>\n",
       "    .dataframe tbody tr th:only-of-type {\n",
       "        vertical-align: middle;\n",
       "    }\n",
       "\n",
       "    .dataframe tbody tr th {\n",
       "        vertical-align: top;\n",
       "    }\n",
       "\n",
       "    .dataframe thead th {\n",
       "        text-align: right;\n",
       "    }\n",
       "</style>\n",
       "<table border=\"1\" class=\"dataframe\">\n",
       "  <thead>\n",
       "    <tr style=\"text-align: right;\">\n",
       "      <th></th>\n",
       "      <th>Agent_id</th>\n",
       "      <th>status</th>\n",
       "      <th>lost_reason</th>\n",
       "      <th>budget</th>\n",
       "      <th>lease</th>\n",
       "      <th>movein</th>\n",
       "      <th>source</th>\n",
       "      <th>source_city</th>\n",
       "      <th>source_country</th>\n",
       "      <th>utm_source</th>\n",
       "      <th>utm_medium</th>\n",
       "      <th>des_city</th>\n",
       "      <th>des_country</th>\n",
       "      <th>room_type</th>\n",
       "      <th>lead_id</th>\n",
       "    </tr>\n",
       "  </thead>\n",
       "  <tbody>\n",
       "    <tr>\n",
       "      <th>0</th>\n",
       "      <td>1deba9e96f404694373de9749ddd1ca8aa7bb823145a6f...</td>\n",
       "      <td>LOST</td>\n",
       "      <td>Not responding</td>\n",
       "      <td>NaN</td>\n",
       "      <td>NaN</td>\n",
       "      <td>NaN</td>\n",
       "      <td>9b2d5b4678781e53038e91ea5324530a03f27dc1d0e5f6...</td>\n",
       "      <td>9b2d5b4678781e53038e91ea5324530a03f27dc1d0e5f6...</td>\n",
       "      <td>9b2d5b4678781e53038e91ea5324530a03f27dc1d0e5f6...</td>\n",
       "      <td>3d59f7548e1af2151b64135003ce63c0a484c26b9b8b16...</td>\n",
       "      <td>268ad70eb5bc4737a2ae28162cbca30118cc94520e49ef...</td>\n",
       "      <td>ecc0e7dc084f141b29479058967d0bc07dee25d9690a98...</td>\n",
       "      <td>8d23a6e37e0a6431a8f1b43a91026dcff51170a89a6512...</td>\n",
       "      <td>NaN</td>\n",
       "      <td>cd5dc0d9393f3980d11d4ba6f88f8110c2b7a7f7796307...</td>\n",
       "    </tr>\n",
       "    <tr>\n",
       "      <th>1</th>\n",
       "      <td>299ae77a4ef350ae0dd37d6bba1c002d03444fb1edb236...</td>\n",
       "      <td>LOST</td>\n",
       "      <td>Low budget</td>\n",
       "      <td>NaN</td>\n",
       "      <td>NaN</td>\n",
       "      <td>NaN</td>\n",
       "      <td>9b2d5b4678781e53038e91ea5324530a03f27dc1d0e5f6...</td>\n",
       "      <td>9b2d5b4678781e53038e91ea5324530a03f27dc1d0e5f6...</td>\n",
       "      <td>9b2d5b4678781e53038e91ea5324530a03f27dc1d0e5f6...</td>\n",
       "      <td>3d59f7548e1af2151b64135003ce63c0a484c26b9b8b16...</td>\n",
       "      <td>268ad70eb5bc4737a2ae28162cbca30118cc94520e49ef...</td>\n",
       "      <td>5372372f3bf5896820cb2819300c3e681820d82c6efc54...</td>\n",
       "      <td>8d23a6e37e0a6431a8f1b43a91026dcff51170a89a6512...</td>\n",
       "      <td>NaN</td>\n",
       "      <td>b94693673a5f7178d1b114e4004ad52377d3244dd24a3d...</td>\n",
       "    </tr>\n",
       "    <tr>\n",
       "      <th>2</th>\n",
       "      <td>c213697430c006013012dd2aca82dd9732aa0a1a6bca13...</td>\n",
       "      <td>LOST</td>\n",
       "      <td>Not responding</td>\n",
       "      <td>£121 - £180 Per Week</td>\n",
       "      <td>Full Year Course Stay 40 - 44 weeks</td>\n",
       "      <td>31/08/22</td>\n",
       "      <td>7aae3e886e89fc1187a5c47d6cea1c22998ee610ade1f2...</td>\n",
       "      <td>9b8cc3c63cdf447e463c11544924bf027945cbd29675f7...</td>\n",
       "      <td>e09e10e67812e9d236ad900e5d46b4308fc62f5d69446a...</td>\n",
       "      <td>bbdefa2950f49882f295b1285d4fa9dec45fc4144bfb07...</td>\n",
       "      <td>09076eb7665d1fb9389c7c4517fee0b00e43092eb34821...</td>\n",
       "      <td>11ab03a1a8c367191355c152f39fe28cae5e426fce49ef...</td>\n",
       "      <td>8d23a6e37e0a6431a8f1b43a91026dcff51170a89a6512...</td>\n",
       "      <td>Ensuite</td>\n",
       "      <td>96ea4e2bf04496c044745938c0299c264c3f4ba079e572...</td>\n",
       "    </tr>\n",
       "    <tr>\n",
       "      <th>3</th>\n",
       "      <td>eac9815a500f908736d303e23aa227f0957177b0e6756b...</td>\n",
       "      <td>LOST</td>\n",
       "      <td>Low budget</td>\n",
       "      <td>0-0</td>\n",
       "      <td>0</td>\n",
       "      <td>NaN</td>\n",
       "      <td>ba2d0a29556ac20f86f45e4543c0825428cba33fd7a9ea...</td>\n",
       "      <td>a5f0d2d08eb0592087e3a3a2f9c1ba2c67cc30f2efd2bd...</td>\n",
       "      <td>e09e10e67812e9d236ad900e5d46b4308fc62f5d69446a...</td>\n",
       "      <td>bbdefa2950f49882f295b1285d4fa9dec45fc4144bfb07...</td>\n",
       "      <td>09076eb7665d1fb9389c7c4517fee0b00e43092eb34821...</td>\n",
       "      <td>19372fa44c57a01c37a5a8418779ca3d99b0b59731fb35...</td>\n",
       "      <td>8d23a6e37e0a6431a8f1b43a91026dcff51170a89a6512...</td>\n",
       "      <td>NaN</td>\n",
       "      <td>1d2b34d8add02a182a4129023766ca4585a8ddced0e5b3...</td>\n",
       "    </tr>\n",
       "    <tr>\n",
       "      <th>4</th>\n",
       "      <td>1deba9e96f404694373de9749ddd1ca8aa7bb823145a6f...</td>\n",
       "      <td>LOST</td>\n",
       "      <td>Junk lead</td>\n",
       "      <td>NaN</td>\n",
       "      <td>NaN</td>\n",
       "      <td>NaN</td>\n",
       "      <td>9b2d5b4678781e53038e91ea5324530a03f27dc1d0e5f6...</td>\n",
       "      <td>9b2d5b4678781e53038e91ea5324530a03f27dc1d0e5f6...</td>\n",
       "      <td>9b2d5b4678781e53038e91ea5324530a03f27dc1d0e5f6...</td>\n",
       "      <td>3d59f7548e1af2151b64135003ce63c0a484c26b9b8b16...</td>\n",
       "      <td>268ad70eb5bc4737a2ae28162cbca30118cc94520e49ef...</td>\n",
       "      <td>9b2d5b4678781e53038e91ea5324530a03f27dc1d0e5f6...</td>\n",
       "      <td>9b2d5b4678781e53038e91ea5324530a03f27dc1d0e5f6...</td>\n",
       "      <td>NaN</td>\n",
       "      <td>fc10fffd29cfbe93c55158fb47752a7501c211d253468c...</td>\n",
       "    </tr>\n",
       "  </tbody>\n",
       "</table>\n",
       "</div>"
      ],
      "text/plain": [
       "                                            Agent_id status     lost_reason  \\\n",
       "0  1deba9e96f404694373de9749ddd1ca8aa7bb823145a6f...   LOST  Not responding   \n",
       "1  299ae77a4ef350ae0dd37d6bba1c002d03444fb1edb236...   LOST      Low budget   \n",
       "2  c213697430c006013012dd2aca82dd9732aa0a1a6bca13...   LOST  Not responding   \n",
       "3  eac9815a500f908736d303e23aa227f0957177b0e6756b...   LOST      Low budget   \n",
       "4  1deba9e96f404694373de9749ddd1ca8aa7bb823145a6f...   LOST       Junk lead   \n",
       "\n",
       "                 budget                                lease    movein  \\\n",
       "0                   NaN                                  NaN       NaN   \n",
       "1                   NaN                                  NaN       NaN   \n",
       "2  £121 - £180 Per Week  Full Year Course Stay 40 - 44 weeks  31/08/22   \n",
       "3                   0-0                                    0       NaN   \n",
       "4                   NaN                                  NaN       NaN   \n",
       "\n",
       "                                              source  \\\n",
       "0  9b2d5b4678781e53038e91ea5324530a03f27dc1d0e5f6...   \n",
       "1  9b2d5b4678781e53038e91ea5324530a03f27dc1d0e5f6...   \n",
       "2  7aae3e886e89fc1187a5c47d6cea1c22998ee610ade1f2...   \n",
       "3  ba2d0a29556ac20f86f45e4543c0825428cba33fd7a9ea...   \n",
       "4  9b2d5b4678781e53038e91ea5324530a03f27dc1d0e5f6...   \n",
       "\n",
       "                                         source_city  \\\n",
       "0  9b2d5b4678781e53038e91ea5324530a03f27dc1d0e5f6...   \n",
       "1  9b2d5b4678781e53038e91ea5324530a03f27dc1d0e5f6...   \n",
       "2  9b8cc3c63cdf447e463c11544924bf027945cbd29675f7...   \n",
       "3  a5f0d2d08eb0592087e3a3a2f9c1ba2c67cc30f2efd2bd...   \n",
       "4  9b2d5b4678781e53038e91ea5324530a03f27dc1d0e5f6...   \n",
       "\n",
       "                                      source_country  \\\n",
       "0  9b2d5b4678781e53038e91ea5324530a03f27dc1d0e5f6...   \n",
       "1  9b2d5b4678781e53038e91ea5324530a03f27dc1d0e5f6...   \n",
       "2  e09e10e67812e9d236ad900e5d46b4308fc62f5d69446a...   \n",
       "3  e09e10e67812e9d236ad900e5d46b4308fc62f5d69446a...   \n",
       "4  9b2d5b4678781e53038e91ea5324530a03f27dc1d0e5f6...   \n",
       "\n",
       "                                          utm_source  \\\n",
       "0  3d59f7548e1af2151b64135003ce63c0a484c26b9b8b16...   \n",
       "1  3d59f7548e1af2151b64135003ce63c0a484c26b9b8b16...   \n",
       "2  bbdefa2950f49882f295b1285d4fa9dec45fc4144bfb07...   \n",
       "3  bbdefa2950f49882f295b1285d4fa9dec45fc4144bfb07...   \n",
       "4  3d59f7548e1af2151b64135003ce63c0a484c26b9b8b16...   \n",
       "\n",
       "                                          utm_medium  \\\n",
       "0  268ad70eb5bc4737a2ae28162cbca30118cc94520e49ef...   \n",
       "1  268ad70eb5bc4737a2ae28162cbca30118cc94520e49ef...   \n",
       "2  09076eb7665d1fb9389c7c4517fee0b00e43092eb34821...   \n",
       "3  09076eb7665d1fb9389c7c4517fee0b00e43092eb34821...   \n",
       "4  268ad70eb5bc4737a2ae28162cbca30118cc94520e49ef...   \n",
       "\n",
       "                                            des_city  \\\n",
       "0  ecc0e7dc084f141b29479058967d0bc07dee25d9690a98...   \n",
       "1  5372372f3bf5896820cb2819300c3e681820d82c6efc54...   \n",
       "2  11ab03a1a8c367191355c152f39fe28cae5e426fce49ef...   \n",
       "3  19372fa44c57a01c37a5a8418779ca3d99b0b59731fb35...   \n",
       "4  9b2d5b4678781e53038e91ea5324530a03f27dc1d0e5f6...   \n",
       "\n",
       "                                         des_country room_type  \\\n",
       "0  8d23a6e37e0a6431a8f1b43a91026dcff51170a89a6512...       NaN   \n",
       "1  8d23a6e37e0a6431a8f1b43a91026dcff51170a89a6512...       NaN   \n",
       "2  8d23a6e37e0a6431a8f1b43a91026dcff51170a89a6512...   Ensuite   \n",
       "3  8d23a6e37e0a6431a8f1b43a91026dcff51170a89a6512...       NaN   \n",
       "4  9b2d5b4678781e53038e91ea5324530a03f27dc1d0e5f6...       NaN   \n",
       "\n",
       "                                             lead_id  \n",
       "0  cd5dc0d9393f3980d11d4ba6f88f8110c2b7a7f7796307...  \n",
       "1  b94693673a5f7178d1b114e4004ad52377d3244dd24a3d...  \n",
       "2  96ea4e2bf04496c044745938c0299c264c3f4ba079e572...  \n",
       "3  1d2b34d8add02a182a4129023766ca4585a8ddced0e5b3...  \n",
       "4  fc10fffd29cfbe93c55158fb47752a7501c211d253468c...  "
      ]
     },
     "execution_count": 5,
     "metadata": {},
     "output_type": "execute_result"
    }
   ],
   "source": [
    "df.head()"
   ]
  },
  {
   "cell_type": "code",
   "execution_count": 6,
   "id": "440434a8",
   "metadata": {},
   "outputs": [
    {
     "data": {
      "text/plain": [
       "Agent_id              0\n",
       "status                0\n",
       "lost_reason        3364\n",
       "budget             3700\n",
       "lease              2341\n",
       "movein            13638\n",
       "source                0\n",
       "source_city           0\n",
       "source_country        0\n",
       "utm_source            0\n",
       "utm_medium            0\n",
       "des_city              0\n",
       "des_country           0\n",
       "room_type         23547\n",
       "lead_id               0\n",
       "dtype: int64"
      ]
     },
     "execution_count": 6,
     "metadata": {},
     "output_type": "execute_result"
    }
   ],
   "source": [
    "#checking for null values\n",
    "df.isnull().sum()"
   ]
  },
  {
   "cell_type": "code",
   "execution_count": 7,
   "id": "fd5c0d4a",
   "metadata": {},
   "outputs": [
    {
     "data": {
      "text/plain": [
       "(46608, 15)"
      ]
     },
     "execution_count": 7,
     "metadata": {},
     "output_type": "execute_result"
    }
   ],
   "source": [
    "#shape of the data\n",
    "df.shape"
   ]
  },
  {
   "cell_type": "code",
   "execution_count": 8,
   "id": "48c84216",
   "metadata": {},
   "outputs": [],
   "source": [
    "#only selecting status column containing won and lost\n",
    "data = df[(df['status'] == 'WON') | (df['status'] == 'LOST')]"
   ]
  },
  {
   "cell_type": "code",
   "execution_count": 9,
   "id": "01384ace",
   "metadata": {},
   "outputs": [
    {
     "data": {
      "text/plain": [
       "array(['LOST', 'WON'], dtype=object)"
      ]
     },
     "execution_count": 9,
     "metadata": {},
     "output_type": "execute_result"
    }
   ],
   "source": [
    "data['status'].unique()"
   ]
  },
  {
   "cell_type": "code",
   "execution_count": 10,
   "id": "0e5fd909",
   "metadata": {},
   "outputs": [
    {
     "data": {
      "text/plain": [
       "(46317, 15)"
      ]
     },
     "execution_count": 10,
     "metadata": {},
     "output_type": "execute_result"
    }
   ],
   "source": [
    "data.shape"
   ]
  },
  {
   "cell_type": "markdown",
   "id": "11d7655d",
   "metadata": {},
   "source": [
    "# Data Cleaning"
   ]
  },
  {
   "cell_type": "code",
   "execution_count": 11,
   "id": "10b189d8",
   "metadata": {},
   "outputs": [],
   "source": [
    "#those column contain 9b2d5b4678781e53038e91ea5324530a03f27dc1d0e5f6c9bc9d493a23be9de0 make those values to nan\n",
    "import numpy as np\n",
    "data= data.replace('9b2d5b4678781e53038e91ea5324530a03f27dc1d0e5f6c9bc9d493a23be9de0', np.nan)"
   ]
  },
  {
   "cell_type": "code",
   "execution_count": 12,
   "id": "4f6ea53d",
   "metadata": {},
   "outputs": [
    {
     "data": {
      "text/plain": [
       "Agent_id              0\n",
       "status                0\n",
       "lost_reason        3073\n",
       "budget             3694\n",
       "lease              2336\n",
       "movein            13610\n",
       "source             5951\n",
       "source_city        8831\n",
       "source_country     8622\n",
       "utm_source           61\n",
       "utm_medium         3184\n",
       "des_city           2529\n",
       "des_country        2529\n",
       "room_type         23491\n",
       "lead_id               0\n",
       "dtype: int64"
      ]
     },
     "execution_count": 12,
     "metadata": {},
     "output_type": "execute_result"
    }
   ],
   "source": [
    "data.isnull().sum()"
   ]
  },
  {
   "cell_type": "code",
   "execution_count": 13,
   "id": "3186aee4",
   "metadata": {},
   "outputs": [
    {
     "data": {
      "text/plain": [
       "array(['Not responding', 'Low budget', 'Junk lead',\n",
       "       'Wants private accommodation', 'Short stay', 'Booked with manager',\n",
       "       'Low availability', 'Not interested', 'Just Enquiring',\n",
       "       'Distance issue', 'Not serving in that region', 'No supply',\n",
       "       'Repeat lead', 'Not a student', 'Semester stay', 'Supply issue',\n",
       "       nan, 'Visa/admission denied', 'Inadequate details',\n",
       "       'Booked with competitor', 'Not going to university',\n",
       "       'Junk lead/ Just Enquiring', 'Lead issue',\n",
       "       'Booked on campus accommodation', 'Looking for admission',\n",
       "       'Underage student', 'Guarantor issue', \"Didn't respond in time\",\n",
       "       'Looking for loan', 'Looking for Scholarship', 'Cross sell'],\n",
       "      dtype=object)"
      ]
     },
     "execution_count": 13,
     "metadata": {},
     "output_type": "execute_result"
    }
   ],
   "source": [
    "#lost _reason column checking for unique values\n",
    "data['lost_reason'].unique()"
   ]
  },
  {
   "cell_type": "code",
   "execution_count": 14,
   "id": "e9fd525f",
   "metadata": {},
   "outputs": [
    {
     "data": {
      "text/plain": [
       "31"
      ]
     },
     "execution_count": 14,
     "metadata": {},
     "output_type": "execute_result"
    }
   ],
   "source": [
    "len(data['lost_reason'].unique())"
   ]
  },
  {
   "cell_type": "code",
   "execution_count": 15,
   "id": "618b5891",
   "metadata": {},
   "outputs": [],
   "source": [
    "#filling missing values with mode\n",
    "data['lost_reason']=data['lost_reason'].fillna(data['lost_reason'].mode().iloc[0])"
   ]
  },
  {
   "cell_type": "markdown",
   "id": "13b4f82e",
   "metadata": {},
   "source": [
    "1.from lost_reason column have 31 unique values                                                  \n",
    "2.there are diffrent reasons to lost                                     \n",
    "3.its important feature to lead score predict               "
   ]
  },
  {
   "cell_type": "markdown",
   "id": "58f1ce06",
   "metadata": {},
   "source": [
    "# Budget"
   ]
  },
  {
   "cell_type": "code",
   "execution_count": 16,
   "id": "f61027ca",
   "metadata": {},
   "outputs": [
    {
     "data": {
      "text/plain": [
       "1858"
      ]
     },
     "execution_count": 16,
     "metadata": {},
     "output_type": "execute_result"
    }
   ],
   "source": [
    "len(df['budget'].unique())"
   ]
  },
  {
   "cell_type": "code",
   "execution_count": 17,
   "id": "1dac3f23",
   "metadata": {},
   "outputs": [],
   "source": [
    "import re\n",
    "range_regex = r'£?(\\d+).*£?(\\d+)?'"
   ]
  },
  {
   "cell_type": "code",
   "execution_count": 18,
   "id": "26b9e99a",
   "metadata": {},
   "outputs": [],
   "source": [
    "data['min_budget_week']=data['budget'].str.split('-').str[0]\n",
    "data['max_budget_week']=data['budget'].str.split('-').str[1]"
   ]
  },
  {
   "cell_type": "code",
   "execution_count": 19,
   "id": "0f547cb0",
   "metadata": {},
   "outputs": [],
   "source": [
    "data['min_budget_week']=data['min_budget_week'].str.replace('[^0-9\\.]', '', regex=True)\n",
    "data['max_budget_week']= data['max_budget_week'].str.replace('[^0-9\\.]', '', regex=True)"
   ]
  },
  {
   "cell_type": "code",
   "execution_count": 20,
   "id": "272cee4f",
   "metadata": {},
   "outputs": [
    {
     "data": {
      "text/plain": [
       "array([nan, '121', '0', '120', '181', '100', '270', '150', '180', '60',\n",
       "       '140', '380', '110', '130', '165', '277', '700', '350', '175',\n",
       "       '300', '400', '109', '160', '325', '143', '.', '151', '170', '241',\n",
       "       '129', '194', '40', '229', '200', '323', '500', '2130', '450',\n",
       "       '190', '215', '1140', '240', '189', '102', '600', '1200', '192',\n",
       "       '', '145', '177', '260', '210', '849', '850', '339', '191', '172',\n",
       "       '238', '224', '250', '900', '230', '420', '125', '249', '155',\n",
       "       '139', '128', '95', '319', '290', '233', '340', '136', '216',\n",
       "       '333', '203', '390', '96', '182', '395', '2200', '50', '116',\n",
       "       '213', '123', '1000', '227', '220', '184', '90', '326', '77',\n",
       "       '162', '247', '1300', '92', '195', '80', '279', '115', '280',\n",
       "       '294', '185', '70', '330', '320', '950', '800', '4450', '440',\n",
       "       '178', '173', '245', '174', '252', '119', '132', '169', '205',\n",
       "       '199', '142', '183', '105', '159', '99', '267', '301', '111',\n",
       "       '414', '387', '164', '201', '55', '179', '138', '51', '166', '239',\n",
       "       '313', '117', '161', '345', '197', '127', '114', '275', '193',\n",
       "       '135', '1699', '196', '820', '248', '171', '75', '285', '79',\n",
       "       '158', '261', '91', '133', '344', '153', '226', '257', '214',\n",
       "       '305', '221', '149', '273', '146', '351', '219', '103', '834',\n",
       "       '521', '137', '292', '176', '168', '86', '463', '131', '255',\n",
       "       '235', '206', '309', '519', '118', '256', '1232', '331', '217',\n",
       "       '338', '188', '231', '244', '225', '222', '7000', '212', '106',\n",
       "       '550', '89', '375', '156', '310', '154', '186', '370', '211',\n",
       "       '426', '347', '152', '265', '411', '204', '295', '198', '160200',\n",
       "       '84', '650', '85', '232', '308', '218', '413', '163', '207', '385',\n",
       "       '87', '187', '68', '354', '242', '360', '259', '1475', '16', '750',\n",
       "       '278', '126', '147', '246', '398', '254', '700900', '209', '293',\n",
       "       '355', '98', '349', '1500', '428', '157', '167', '431', '289',\n",
       "       '454', '83', '104', '306', '369', '365', '321', '1779', '1002',\n",
       "       '363', '264', '304', '690', '1230', '134', '425', '302', '465',\n",
       "       '307', '341', '400.', '148', '82', '367', '112', '113', '785',\n",
       "       '407', '337', '358', '499', '2161', '124', '1199', '595', '141',\n",
       "       '263', '434', '97', '93', '122', '101', '234', '286', '236', '675',\n",
       "       '498', '389', '897', '108', '322', '379', '1100', '107', '843',\n",
       "       '1909', '1222', '1299', '1108', '303', '258', '1130', '359',\n",
       "       '1400', '144', '409', '2000', '362', '430', '312', '620', '4302',\n",
       "       '386', '364', '1099', '1250', '435', '100.', '460', '266', '202',\n",
       "       '253', '223', '1565', '646', '384', '471', '452', '599', '269',\n",
       "       '500600', '5', '371', '467', '720', '618', '336', '995', '1860',\n",
       "       '272', '299', '1858', '973', '200210', '74', '10003', '357', '66',\n",
       "       '445', '288', '317', '1209', '291', '1079', '585', '274', '961',\n",
       "       '15', '71', '374', '1003', '284', '283', '271', '1080', '335',\n",
       "       '483', '412', '372', '165170', '237', '1395', '324', '1350', '392',\n",
       "       '1736', '468', '44', '840', '1382', '1383', '523', '281', '318',\n",
       "       '462', '866', '453', '1364', '1343', '383', '997', '228', '505',\n",
       "       '1702', '596', '418', '473', '315', '419', '2945', '298', '537',\n",
       "       '791', '965', '491', '569', '1240', '888', '1257', '88', '399',\n",
       "       '251', '875', '1590', '243', '932', '391', '990', '1685', '297',\n",
       "       '67', '920', '417', '870', '936', '474', '282', '65', '905', '477',\n",
       "       '558', '1529', '410', '867', '1536', '511', '639', '423', '780',\n",
       "       '378', '397', '208', '18', '2232', '1260', '72', '975', '810',\n",
       "       '4451', '332'], dtype=object)"
      ]
     },
     "execution_count": 20,
     "metadata": {},
     "output_type": "execute_result"
    }
   ],
   "source": [
    "data['min_budget_week'].unique()"
   ]
  },
  {
   "cell_type": "code",
   "execution_count": 21,
   "id": "c87ba180",
   "metadata": {},
   "outputs": [],
   "source": [
    "data['min_budget_week']= data['min_budget_week'].replace(['.',''], np.nan)"
   ]
  },
  {
   "cell_type": "code",
   "execution_count": 22,
   "id": "baa046c1",
   "metadata": {},
   "outputs": [],
   "source": [
    "data['min_budget_week']= data['min_budget_week'].astype(float)"
   ]
  },
  {
   "cell_type": "code",
   "execution_count": 23,
   "id": "6b89b5c7",
   "metadata": {},
   "outputs": [
    {
     "data": {
      "text/plain": [
       "Agent_id            object\n",
       "status              object\n",
       "lost_reason         object\n",
       "budget              object\n",
       "lease               object\n",
       "movein              object\n",
       "source              object\n",
       "source_city         object\n",
       "source_country      object\n",
       "utm_source          object\n",
       "utm_medium          object\n",
       "des_city            object\n",
       "des_country         object\n",
       "room_type           object\n",
       "lead_id             object\n",
       "min_budget_week    float64\n",
       "max_budget_week     object\n",
       "dtype: object"
      ]
     },
     "execution_count": 23,
     "metadata": {},
     "output_type": "execute_result"
    }
   ],
   "source": [
    "data.dtypes"
   ]
  },
  {
   "cell_type": "code",
   "execution_count": 24,
   "id": "a77b2a4a",
   "metadata": {},
   "outputs": [],
   "source": [
    "data['max_budget_week']= data['max_budget_week'].replace(['.',''], np.nan)"
   ]
  },
  {
   "cell_type": "code",
   "execution_count": 25,
   "id": "a836c330",
   "metadata": {},
   "outputs": [],
   "source": [
    "data['max_budget_week']= data['max_budget_week'].replace(['...450'], '450')"
   ]
  },
  {
   "cell_type": "code",
   "execution_count": 26,
   "id": "d1325fb8",
   "metadata": {},
   "outputs": [],
   "source": [
    "data['max_budget_week']= data['max_budget_week'].astype(float)"
   ]
  },
  {
   "cell_type": "code",
   "execution_count": 27,
   "id": "ecf22c87",
   "metadata": {},
   "outputs": [
    {
     "data": {
      "text/plain": [
       "Agent_id               0\n",
       "status                 0\n",
       "lost_reason            0\n",
       "budget              3694\n",
       "lease               2336\n",
       "movein             13610\n",
       "source              5951\n",
       "source_city         8831\n",
       "source_country      8622\n",
       "utm_source            61\n",
       "utm_medium          3184\n",
       "des_city            2529\n",
       "des_country         2529\n",
       "room_type          23491\n",
       "lead_id                0\n",
       "min_budget_week     3724\n",
       "max_budget_week    17223\n",
       "dtype: int64"
      ]
     },
     "execution_count": 27,
     "metadata": {},
     "output_type": "execute_result"
    }
   ],
   "source": [
    "data.isnull().sum()"
   ]
  },
  {
   "cell_type": "code",
   "execution_count": 28,
   "id": "20e30d3a",
   "metadata": {},
   "outputs": [
    {
     "data": {
      "text/plain": [
       "array(['LOST', 'WON'], dtype=object)"
      ]
     },
     "execution_count": 28,
     "metadata": {},
     "output_type": "execute_result"
    }
   ],
   "source": [
    "data['status'].unique()"
   ]
  },
  {
   "cell_type": "markdown",
   "id": "3e9e3eab",
   "metadata": {},
   "source": [
    "# Lease"
   ]
  },
  {
   "cell_type": "code",
   "execution_count": 29,
   "id": "78c93f4a",
   "metadata": {},
   "outputs": [
    {
     "data": {
      "text/plain": [
       "array([nan, 'Full Year Course Stay 40 - 44 weeks', '0', 'semester-stay',\n",
       "       '51', 'Semester Stay 20 - 24 weeks',\n",
       "       'Complete Education Year Stay 50 - 52 weeks', 'full-course-stay',\n",
       "       'full-year-stay', 'Other', '51 weeks', '44', '18',\n",
       "       'full year stay', '51weeks', 'Summer/Short Stay 8 - 12 weeks',\n",
       "       '51 weeks \\\\', 'other', 'short-stay', '52 weeks', '44 weeks', '12',\n",
       "       '1 year', '96', '43', '20', '294', '20 - 24 weeks', '1 year .',\n",
       "       '48', '40', 'N51', '6', 'Academic year', '8', '51Weeks',\n",
       "       '50 weeks', '84', '15 weeks', 'full course', '45', '39', '1',\n",
       "       '5 weeks', '50', '12-24', '25', '45 weeks', '19', '44-51',\n",
       "       '6 weeks', 'FULL YEAR', '24-36', '32', '44/week', '42', '3 month',\n",
       "       '44-51 weeks', '3 months', '24', '6 months', '2 years', '10', '52',\n",
       "       '2 weeks', '46', 'sem stay', '13', 'lease', 'short stay', '4',\n",
       "       '52weeks', '69', '16', '50 - 52 weeks', '44 - 51 weeks',\n",
       "       '4-8 weeks', '4 weeks', '3', 'Full year stay', '11', '10-15 weeks',\n",
       "       '40-44', '52 weeks]', '26', '40 - 44 weeks', '51\\\\', '51 week',\n",
       "       '36 - 44', '140', 'Sem Stay', '41', '44/51 weeks', '56',\n",
       "       '40 weeks', '1 month', '10 months', '<=8', '44 WEEKS', '21', '2',\n",
       "       '24-44 weeks', '350', '06 months', '47', '12 weeks', '38', '54',\n",
       "       '37', '30', '16 weeks', '4 WEEKS', '15', '22', '17', '44weeks',\n",
       "       '5', 'Full Year Course Stay 51 weeks', '500-550pm', '12m',\n",
       "       '5 months', '14 weeks', '36', 'not sure', '49', '44-52 weeks',\n",
       "       '41 weeks', '45/week', '23', '51 weeks weeks',\n",
       "       'Full Year Course Stay 44- 51 weeks', '24 weeks', '11 months',\n",
       "       'Full Year Stay', '44 week', '10 weeks', '5-6 months',\n",
       "       '40-44 weeks', 'semester stay', 'ASAP', 'academic year',\n",
       "       '42-52 weeks', '2-3 months', '41weeks', '34', '35 weeks',\n",
       "       '8months', '16 week', 'until dec', '1 - 2 months', 'full year',\n",
       "       '51-54weeks', '357', 'Full year', '3 years', '7 days', '4 months',\n",
       "       'long tearm', '55', '56 weeks', '207', '35', '14',\n",
       "       'Stay 50 - 52 weeks', '1 year stay.', '30 weeks', '61', '88',\n",
       "       '1year', '3-4 weeks',\n",
       "       '51 weeks ( I don’t mind travelling over an hour)', '44-51 weeeks',\n",
       "       'N/44', '8 weeks', '38 Weeks', '24-48 weeks', '156', '9-12 months',\n",
       "       '6 motnhs', '44WEEKS', '2 -3weeks', '3-4 months', 'Semester stay',\n",
       "       '20weeks', '1 month\\\\', 'aug', '97', '44-51weeks', '76',\n",
       "       '44/weeks', '6 month', '36-40 weeks', '17 weeks', '12 month',\n",
       "       '44 weeks/51 weeks', 'full year stayt', 'Short stay',\n",
       "       '25-30 weeks', '1 week', '31', '125/week', '60', '1-2', '6  onths',\n",
       "       '03 months', '44 - 51', '-', '45 or more', 'Semester Stay', '27',\n",
       "       '46 weeks', '38-44 weeks', 'full yyear stay', '0.5', '8-12 weeks',\n",
       "       '6months', '9', 'London', '28', '46 week', '72', 'Long time',\n",
       "       '51 cweeks', '42 weeks', '12 months', '33', '1 year stay',\n",
       "       '6weeks', '2years', '43 weeks', '6 months (26 weeks)', '20 weeks',\n",
       "       '53 weeks', 'Full Year', '7-8 months', '10 month', 'Glasgow',\n",
       "       '10weeks', '51WEEKS', 'till december', '9 months', '36-38 weeks',\n",
       "       '19 weeks', '40weeks +', '40 week', '250', '39 weeks',\n",
       "       '6-8 months', '6m to 1 year', '44weeks - 51', '130/week',\n",
       "       '51 wweeks', '45 weeksa', '68', '44 or 51 weeks', '51 WEEKS',\n",
       "       '52 WEEKS', '51  weeks', '51sweek', '48 weeks', '44 week stay',\n",
       "       '44week', '43/44 weeks', '130', '29', '58', '3months', '160/week',\n",
       "       'Until June 2023', '34 weeks', 'Whole year', '40 weekks',\n",
       "       '-51 weeks', '12-16', '45 WEEKS', 'Until august', '8-12 m',\n",
       "       '39 week', '16 days', '150', '2 months', '38 weeks', '1-2 months',\n",
       "       'Full time', '1 weeks', '44-', '2 month', '3-5 months', '3 weeks',\n",
       "       '143', '144', '1 YEAR', '44 week s', '57', '40+', '129', '42-51',\n",
       "       'Sem stay', '70', '189', '5-6 weeks', 'academic yr',\n",
       "       '12 weeks max', '23 weeks', '89', '1 mnth', '200/week', '22 weeks',\n",
       "       '51 Weeks', '24-44weeks', '33 weeks', '78'], dtype=object)"
      ]
     },
     "execution_count": 29,
     "metadata": {},
     "output_type": "execute_result"
    }
   ],
   "source": [
    "data['lease'].unique()"
   ]
  },
  {
   "cell_type": "code",
   "execution_count": 30,
   "id": "0a2eade2",
   "metadata": {},
   "outputs": [
    {
     "data": {
      "text/plain": [
       "Agent_id               0\n",
       "status                 0\n",
       "lost_reason            0\n",
       "budget              3694\n",
       "lease               2336\n",
       "movein             13610\n",
       "source              5951\n",
       "source_city         8831\n",
       "source_country      8622\n",
       "utm_source            61\n",
       "utm_medium          3184\n",
       "des_city            2529\n",
       "des_country         2529\n",
       "room_type          23491\n",
       "lead_id                0\n",
       "min_budget_week     3724\n",
       "max_budget_week    17223\n",
       "dtype: int64"
      ]
     },
     "execution_count": 30,
     "metadata": {},
     "output_type": "execute_result"
    }
   ],
   "source": [
    "data.isnull().sum()"
   ]
  },
  {
   "cell_type": "code",
   "execution_count": 31,
   "id": "a7a7b8a2",
   "metadata": {},
   "outputs": [
    {
     "data": {
      "text/plain": [
       "Agent_id              0\n",
       "status                0\n",
       "lost_reason           0\n",
       "budget               79\n",
       "lease                56\n",
       "movein              631\n",
       "source              170\n",
       "source_city         548\n",
       "source_country      543\n",
       "utm_source            3\n",
       "utm_medium          474\n",
       "des_city             60\n",
       "des_country          60\n",
       "room_type          1612\n",
       "lead_id               0\n",
       "min_budget_week      80\n",
       "max_budget_week    1159\n",
       "dtype: int64"
      ]
     },
     "execution_count": 31,
     "metadata": {},
     "output_type": "execute_result"
    }
   ],
   "source": [
    "data[data['status']=='WON'].isnull().sum()"
   ]
  },
  {
   "cell_type": "code",
   "execution_count": 32,
   "id": "185c1433",
   "metadata": {},
   "outputs": [
    {
     "data": {
      "text/plain": [
       "(3073, 17)"
      ]
     },
     "execution_count": 32,
     "metadata": {},
     "output_type": "execute_result"
    }
   ],
   "source": [
    "data[data['status']=='WON'].shape"
   ]
  },
  {
   "cell_type": "markdown",
   "id": "1138148e",
   "metadata": {},
   "source": [
    "# Room_Type"
   ]
  },
  {
   "cell_type": "code",
   "execution_count": 33,
   "id": "46ea0287",
   "metadata": {},
   "outputs": [
    {
     "data": {
      "text/plain": [
       "23491"
      ]
     },
     "execution_count": 33,
     "metadata": {},
     "output_type": "execute_result"
    }
   ],
   "source": [
    "#there are many missing values in room_type\n",
    "data['room_type'].isnull().sum()"
   ]
  },
  {
   "cell_type": "code",
   "execution_count": 34,
   "id": "f256ed4c",
   "metadata": {},
   "outputs": [
    {
     "data": {
      "text/plain": [
       "array([nan, 'Ensuite', 'Entire Place', 'Studio', 'Twin-Studio',\n",
       "       'Non-Ensuite'], dtype=object)"
      ]
     },
     "execution_count": 34,
     "metadata": {},
     "output_type": "execute_result"
    }
   ],
   "source": [
    "#there are 5 unique values\n",
    "data['room_type'].unique()"
   ]
  },
  {
   "cell_type": "code",
   "execution_count": 35,
   "id": "0c7cc516",
   "metadata": {},
   "outputs": [
    {
     "data": {
      "text/plain": [
       "Ensuite         12379\n",
       "Studio           6316\n",
       "Entire Place     4128\n",
       "Non-Ensuite         2\n",
       "Twin-Studio         1\n",
       "Name: room_type, dtype: int64"
      ]
     },
     "execution_count": 35,
     "metadata": {},
     "output_type": "execute_result"
    }
   ],
   "source": [
    "data['room_type'].value_counts()"
   ]
  },
  {
   "cell_type": "code",
   "execution_count": 36,
   "id": "0c08e918",
   "metadata": {},
   "outputs": [],
   "source": [
    "#fill missing values using backfill because there are many values missing in it if fill with mode duplicates of single values\n",
    "data['room_type'].fillna(method='bfill', inplace=True)"
   ]
  },
  {
   "cell_type": "code",
   "execution_count": 37,
   "id": "bf6ab57d",
   "metadata": {},
   "outputs": [
    {
     "data": {
      "text/plain": [
       "Agent_id               0\n",
       "status                 0\n",
       "lost_reason            0\n",
       "budget              3694\n",
       "lease               2336\n",
       "movein             13610\n",
       "source              5951\n",
       "source_city         8831\n",
       "source_country      8622\n",
       "utm_source            61\n",
       "utm_medium          3184\n",
       "des_city            2529\n",
       "des_country         2529\n",
       "room_type              0\n",
       "lead_id                0\n",
       "min_budget_week     3724\n",
       "max_budget_week    17223\n",
       "dtype: int64"
      ]
     },
     "execution_count": 37,
     "metadata": {},
     "output_type": "execute_result"
    }
   ],
   "source": [
    "data.isnull().sum()"
   ]
  },
  {
   "cell_type": "code",
   "execution_count": 38,
   "id": "c5445873",
   "metadata": {},
   "outputs": [
    {
     "data": {
      "text/html": [
       "<div>\n",
       "<style scoped>\n",
       "    .dataframe tbody tr th:only-of-type {\n",
       "        vertical-align: middle;\n",
       "    }\n",
       "\n",
       "    .dataframe tbody tr th {\n",
       "        vertical-align: top;\n",
       "    }\n",
       "\n",
       "    .dataframe thead th {\n",
       "        text-align: right;\n",
       "    }\n",
       "</style>\n",
       "<table border=\"1\" class=\"dataframe\">\n",
       "  <thead>\n",
       "    <tr style=\"text-align: right;\">\n",
       "      <th></th>\n",
       "      <th>Agent_id</th>\n",
       "      <th>status</th>\n",
       "      <th>lost_reason</th>\n",
       "      <th>budget</th>\n",
       "      <th>lease</th>\n",
       "      <th>movein</th>\n",
       "      <th>source</th>\n",
       "      <th>source_city</th>\n",
       "      <th>source_country</th>\n",
       "      <th>utm_source</th>\n",
       "      <th>utm_medium</th>\n",
       "      <th>des_city</th>\n",
       "      <th>des_country</th>\n",
       "      <th>room_type</th>\n",
       "      <th>lead_id</th>\n",
       "      <th>min_budget_week</th>\n",
       "      <th>max_budget_week</th>\n",
       "    </tr>\n",
       "  </thead>\n",
       "  <tbody>\n",
       "    <tr>\n",
       "      <th>0</th>\n",
       "      <td>1deba9e96f404694373de9749ddd1ca8aa7bb823145a6f...</td>\n",
       "      <td>LOST</td>\n",
       "      <td>Not responding</td>\n",
       "      <td>NaN</td>\n",
       "      <td>NaN</td>\n",
       "      <td>NaN</td>\n",
       "      <td>NaN</td>\n",
       "      <td>NaN</td>\n",
       "      <td>NaN</td>\n",
       "      <td>3d59f7548e1af2151b64135003ce63c0a484c26b9b8b16...</td>\n",
       "      <td>268ad70eb5bc4737a2ae28162cbca30118cc94520e49ef...</td>\n",
       "      <td>ecc0e7dc084f141b29479058967d0bc07dee25d9690a98...</td>\n",
       "      <td>8d23a6e37e0a6431a8f1b43a91026dcff51170a89a6512...</td>\n",
       "      <td>Ensuite</td>\n",
       "      <td>cd5dc0d9393f3980d11d4ba6f88f8110c2b7a7f7796307...</td>\n",
       "      <td>NaN</td>\n",
       "      <td>NaN</td>\n",
       "    </tr>\n",
       "    <tr>\n",
       "      <th>1</th>\n",
       "      <td>299ae77a4ef350ae0dd37d6bba1c002d03444fb1edb236...</td>\n",
       "      <td>LOST</td>\n",
       "      <td>Low budget</td>\n",
       "      <td>NaN</td>\n",
       "      <td>NaN</td>\n",
       "      <td>NaN</td>\n",
       "      <td>NaN</td>\n",
       "      <td>NaN</td>\n",
       "      <td>NaN</td>\n",
       "      <td>3d59f7548e1af2151b64135003ce63c0a484c26b9b8b16...</td>\n",
       "      <td>268ad70eb5bc4737a2ae28162cbca30118cc94520e49ef...</td>\n",
       "      <td>5372372f3bf5896820cb2819300c3e681820d82c6efc54...</td>\n",
       "      <td>8d23a6e37e0a6431a8f1b43a91026dcff51170a89a6512...</td>\n",
       "      <td>Ensuite</td>\n",
       "      <td>b94693673a5f7178d1b114e4004ad52377d3244dd24a3d...</td>\n",
       "      <td>NaN</td>\n",
       "      <td>NaN</td>\n",
       "    </tr>\n",
       "    <tr>\n",
       "      <th>4</th>\n",
       "      <td>1deba9e96f404694373de9749ddd1ca8aa7bb823145a6f...</td>\n",
       "      <td>LOST</td>\n",
       "      <td>Junk lead</td>\n",
       "      <td>NaN</td>\n",
       "      <td>NaN</td>\n",
       "      <td>NaN</td>\n",
       "      <td>NaN</td>\n",
       "      <td>NaN</td>\n",
       "      <td>NaN</td>\n",
       "      <td>3d59f7548e1af2151b64135003ce63c0a484c26b9b8b16...</td>\n",
       "      <td>268ad70eb5bc4737a2ae28162cbca30118cc94520e49ef...</td>\n",
       "      <td>NaN</td>\n",
       "      <td>NaN</td>\n",
       "      <td>Entire Place</td>\n",
       "      <td>fc10fffd29cfbe93c55158fb47752a7501c211d253468c...</td>\n",
       "      <td>NaN</td>\n",
       "      <td>NaN</td>\n",
       "    </tr>\n",
       "    <tr>\n",
       "      <th>5</th>\n",
       "      <td>2306878a9ad9b57686cd623dd285aaa9b25afdf627f651...</td>\n",
       "      <td>LOST</td>\n",
       "      <td>Wants private accommodation</td>\n",
       "      <td>120</td>\n",
       "      <td>semester-stay</td>\n",
       "      <td>NaN</td>\n",
       "      <td>7bcfca0e9d73371699b0adbf1c691e02108fa64f02f4db...</td>\n",
       "      <td>7b7f15f9ffbeb905caaee265ac39d267d0512ab5333f2f...</td>\n",
       "      <td>8da82000ef9c4468ba47362a924b895e40662fed846942...</td>\n",
       "      <td>bbdefa2950f49882f295b1285d4fa9dec45fc4144bfb07...</td>\n",
       "      <td>09076eb7665d1fb9389c7c4517fee0b00e43092eb34821...</td>\n",
       "      <td>f19d051291d4364989e4e957ef610448af3e05863ee1b8...</td>\n",
       "      <td>8d23a6e37e0a6431a8f1b43a91026dcff51170a89a6512...</td>\n",
       "      <td>Entire Place</td>\n",
       "      <td>b26f82b657d94e19ef8382877006c3e9425d7e4ab836f9...</td>\n",
       "      <td>120.0</td>\n",
       "      <td>NaN</td>\n",
       "    </tr>\n",
       "    <tr>\n",
       "      <th>8</th>\n",
       "      <td>ab6bb4584e9946b135dca2e39d12abba3ea82d5ea927d0...</td>\n",
       "      <td>LOST</td>\n",
       "      <td>Low budget</td>\n",
       "      <td>100</td>\n",
       "      <td>Semester Stay 20 - 24 weeks</td>\n",
       "      <td>NaN</td>\n",
       "      <td>869105a4ce02fc56897c8d7e1eb37736b95e3e826568ae...</td>\n",
       "      <td>4fa64bd55d5c0c1f83015952b4b9500cb099dd0b1b0464...</td>\n",
       "      <td>8da82000ef9c4468ba47362a924b895e40662fed846942...</td>\n",
       "      <td>bbdefa2950f49882f295b1285d4fa9dec45fc4144bfb07...</td>\n",
       "      <td>09076eb7665d1fb9389c7c4517fee0b00e43092eb34821...</td>\n",
       "      <td>5372372f3bf5896820cb2819300c3e681820d82c6efc54...</td>\n",
       "      <td>8d23a6e37e0a6431a8f1b43a91026dcff51170a89a6512...</td>\n",
       "      <td>Ensuite</td>\n",
       "      <td>b26f82b657d94e19ef8382877006c3e9425d7e4ab836f9...</td>\n",
       "      <td>100.0</td>\n",
       "      <td>NaN</td>\n",
       "    </tr>\n",
       "    <tr>\n",
       "      <th>...</th>\n",
       "      <td>...</td>\n",
       "      <td>...</td>\n",
       "      <td>...</td>\n",
       "      <td>...</td>\n",
       "      <td>...</td>\n",
       "      <td>...</td>\n",
       "      <td>...</td>\n",
       "      <td>...</td>\n",
       "      <td>...</td>\n",
       "      <td>...</td>\n",
       "      <td>...</td>\n",
       "      <td>...</td>\n",
       "      <td>...</td>\n",
       "      <td>...</td>\n",
       "      <td>...</td>\n",
       "      <td>...</td>\n",
       "      <td>...</td>\n",
       "    </tr>\n",
       "    <tr>\n",
       "      <th>46582</th>\n",
       "      <td>bb22552c613cd3d30888fe8c4fecac110298f9f06698ef...</td>\n",
       "      <td>LOST</td>\n",
       "      <td>Wants private accommodation</td>\n",
       "      <td>NaN</td>\n",
       "      <td>NaN</td>\n",
       "      <td>NaN</td>\n",
       "      <td>NaN</td>\n",
       "      <td>NaN</td>\n",
       "      <td>NaN</td>\n",
       "      <td>3d59f7548e1af2151b64135003ce63c0a484c26b9b8b16...</td>\n",
       "      <td>268ad70eb5bc4737a2ae28162cbca30118cc94520e49ef...</td>\n",
       "      <td>e509e9f3fb8f1e6b3cee0b3e924eb6e533928aeca83653...</td>\n",
       "      <td>8d23a6e37e0a6431a8f1b43a91026dcff51170a89a6512...</td>\n",
       "      <td>Studio</td>\n",
       "      <td>98b4f190437c95869d33b2747577a243d64a9ada8add3f...</td>\n",
       "      <td>NaN</td>\n",
       "      <td>NaN</td>\n",
       "    </tr>\n",
       "    <tr>\n",
       "      <th>46591</th>\n",
       "      <td>64ce47d15992e40da1dd9e37330f1aa90bf11b5878258a...</td>\n",
       "      <td>LOST</td>\n",
       "      <td>Not responding</td>\n",
       "      <td>215</td>\n",
       "      <td>51</td>\n",
       "      <td>10/09/22</td>\n",
       "      <td>ba2d0a29556ac20f86f45e4543c0825428cba33fd7a9ea...</td>\n",
       "      <td>ecc0e7dc084f141b29479058967d0bc07dee25d9690a98...</td>\n",
       "      <td>e09e10e67812e9d236ad900e5d46b4308fc62f5d69446a...</td>\n",
       "      <td>bbdefa2950f49882f295b1285d4fa9dec45fc4144bfb07...</td>\n",
       "      <td>09076eb7665d1fb9389c7c4517fee0b00e43092eb34821...</td>\n",
       "      <td>c384826dfbfce62c3fd99a46984a56fe71546a85c2cb6c...</td>\n",
       "      <td>8d23a6e37e0a6431a8f1b43a91026dcff51170a89a6512...</td>\n",
       "      <td>Ensuite</td>\n",
       "      <td>743ea7f9921b1934da12778ec450280dceba029da118e1...</td>\n",
       "      <td>215.0</td>\n",
       "      <td>NaN</td>\n",
       "    </tr>\n",
       "    <tr>\n",
       "      <th>46595</th>\n",
       "      <td>2405c2d2f24606e4ef882b7e8c681dca10cf2d5a4abae6...</td>\n",
       "      <td>LOST</td>\n",
       "      <td>Low availability</td>\n",
       "      <td>1858</td>\n",
       "      <td>84</td>\n",
       "      <td>30/08/22</td>\n",
       "      <td>9ba9134a91cfc6b52ac8d480e9ad37896ca4ac216e2d79...</td>\n",
       "      <td>7d1550b844ff586a6023216c06263105eed0a849a2a1f6...</td>\n",
       "      <td>8da82000ef9c4468ba47362a924b895e40662fed846942...</td>\n",
       "      <td>bbdefa2950f49882f295b1285d4fa9dec45fc4144bfb07...</td>\n",
       "      <td>09076eb7665d1fb9389c7c4517fee0b00e43092eb34821...</td>\n",
       "      <td>ecc0e7dc084f141b29479058967d0bc07dee25d9690a98...</td>\n",
       "      <td>8d23a6e37e0a6431a8f1b43a91026dcff51170a89a6512...</td>\n",
       "      <td>Ensuite</td>\n",
       "      <td>86ae1d25e92121dd581c75c958103bb3cc81ef4aa47fef...</td>\n",
       "      <td>1858.0</td>\n",
       "      <td>NaN</td>\n",
       "    </tr>\n",
       "    <tr>\n",
       "      <th>46601</th>\n",
       "      <td>5a39335b3529acae692acc9954d3b3d71f69e84963c9fb...</td>\n",
       "      <td>LOST</td>\n",
       "      <td>Low availability</td>\n",
       "      <td>1529</td>\n",
       "      <td>84</td>\n",
       "      <td>30/08/22</td>\n",
       "      <td>fce2de0ca752918e030db0b31521693134ecfbf1c32e14...</td>\n",
       "      <td>130efea232d37b2351e9ed98bdb1ec482bb7e2e4af853d...</td>\n",
       "      <td>c5ef963994081d53520c520b85ca3cafbcd51eaa87c980...</td>\n",
       "      <td>d15690f08a575024650b01ffac892cfd2b93e6c57c140f...</td>\n",
       "      <td>NaN</td>\n",
       "      <td>ecc0e7dc084f141b29479058967d0bc07dee25d9690a98...</td>\n",
       "      <td>8d23a6e37e0a6431a8f1b43a91026dcff51170a89a6512...</td>\n",
       "      <td>Entire Place</td>\n",
       "      <td>201119c5a66fbf4782c071175d91766414509e7e06430a...</td>\n",
       "      <td>1529.0</td>\n",
       "      <td>NaN</td>\n",
       "    </tr>\n",
       "    <tr>\n",
       "      <th>46606</th>\n",
       "      <td>8b8b029f1142f5cbc825aa6cbee01406c915c6b055db79...</td>\n",
       "      <td>LOST</td>\n",
       "      <td>Low availability</td>\n",
       "      <td>1108</td>\n",
       "      <td>294</td>\n",
       "      <td>30/08/22</td>\n",
       "      <td>d684761c17c11590f6e2525b48141cb2c0c6f2be5df4e2...</td>\n",
       "      <td>e9c722cbefc2f055ae60b4e2cbe73a2d99537eab0c37f3...</td>\n",
       "      <td>b936ee09e20b3b2234907cde349cda1c1a5327c4a486bf...</td>\n",
       "      <td>7f3fa48ca885678134842fa7456f3ece53a97f843b6101...</td>\n",
       "      <td>abb8e2badd5b6265c3237170cc599257a4f566706715d2...</td>\n",
       "      <td>ecc0e7dc084f141b29479058967d0bc07dee25d9690a98...</td>\n",
       "      <td>8d23a6e37e0a6431a8f1b43a91026dcff51170a89a6512...</td>\n",
       "      <td>Studio</td>\n",
       "      <td>1f90dbad4873cb9673ff3c7ec69fbac4289181453c6cea...</td>\n",
       "      <td>1108.0</td>\n",
       "      <td>NaN</td>\n",
       "    </tr>\n",
       "  </tbody>\n",
       "</table>\n",
       "<p>17223 rows × 17 columns</p>\n",
       "</div>"
      ],
      "text/plain": [
       "                                                Agent_id status  \\\n",
       "0      1deba9e96f404694373de9749ddd1ca8aa7bb823145a6f...   LOST   \n",
       "1      299ae77a4ef350ae0dd37d6bba1c002d03444fb1edb236...   LOST   \n",
       "4      1deba9e96f404694373de9749ddd1ca8aa7bb823145a6f...   LOST   \n",
       "5      2306878a9ad9b57686cd623dd285aaa9b25afdf627f651...   LOST   \n",
       "8      ab6bb4584e9946b135dca2e39d12abba3ea82d5ea927d0...   LOST   \n",
       "...                                                  ...    ...   \n",
       "46582  bb22552c613cd3d30888fe8c4fecac110298f9f06698ef...   LOST   \n",
       "46591  64ce47d15992e40da1dd9e37330f1aa90bf11b5878258a...   LOST   \n",
       "46595  2405c2d2f24606e4ef882b7e8c681dca10cf2d5a4abae6...   LOST   \n",
       "46601  5a39335b3529acae692acc9954d3b3d71f69e84963c9fb...   LOST   \n",
       "46606  8b8b029f1142f5cbc825aa6cbee01406c915c6b055db79...   LOST   \n",
       "\n",
       "                       lost_reason budget                        lease  \\\n",
       "0                   Not responding    NaN                          NaN   \n",
       "1                       Low budget    NaN                          NaN   \n",
       "4                        Junk lead    NaN                          NaN   \n",
       "5      Wants private accommodation    120                semester-stay   \n",
       "8                       Low budget    100  Semester Stay 20 - 24 weeks   \n",
       "...                            ...    ...                          ...   \n",
       "46582  Wants private accommodation    NaN                          NaN   \n",
       "46591               Not responding    215                           51   \n",
       "46595             Low availability   1858                           84   \n",
       "46601             Low availability   1529                           84   \n",
       "46606             Low availability   1108                          294   \n",
       "\n",
       "         movein                                             source  \\\n",
       "0           NaN                                                NaN   \n",
       "1           NaN                                                NaN   \n",
       "4           NaN                                                NaN   \n",
       "5           NaN  7bcfca0e9d73371699b0adbf1c691e02108fa64f02f4db...   \n",
       "8           NaN  869105a4ce02fc56897c8d7e1eb37736b95e3e826568ae...   \n",
       "...         ...                                                ...   \n",
       "46582       NaN                                                NaN   \n",
       "46591  10/09/22  ba2d0a29556ac20f86f45e4543c0825428cba33fd7a9ea...   \n",
       "46595  30/08/22  9ba9134a91cfc6b52ac8d480e9ad37896ca4ac216e2d79...   \n",
       "46601  30/08/22  fce2de0ca752918e030db0b31521693134ecfbf1c32e14...   \n",
       "46606  30/08/22  d684761c17c11590f6e2525b48141cb2c0c6f2be5df4e2...   \n",
       "\n",
       "                                             source_city  \\\n",
       "0                                                    NaN   \n",
       "1                                                    NaN   \n",
       "4                                                    NaN   \n",
       "5      7b7f15f9ffbeb905caaee265ac39d267d0512ab5333f2f...   \n",
       "8      4fa64bd55d5c0c1f83015952b4b9500cb099dd0b1b0464...   \n",
       "...                                                  ...   \n",
       "46582                                                NaN   \n",
       "46591  ecc0e7dc084f141b29479058967d0bc07dee25d9690a98...   \n",
       "46595  7d1550b844ff586a6023216c06263105eed0a849a2a1f6...   \n",
       "46601  130efea232d37b2351e9ed98bdb1ec482bb7e2e4af853d...   \n",
       "46606  e9c722cbefc2f055ae60b4e2cbe73a2d99537eab0c37f3...   \n",
       "\n",
       "                                          source_country  \\\n",
       "0                                                    NaN   \n",
       "1                                                    NaN   \n",
       "4                                                    NaN   \n",
       "5      8da82000ef9c4468ba47362a924b895e40662fed846942...   \n",
       "8      8da82000ef9c4468ba47362a924b895e40662fed846942...   \n",
       "...                                                  ...   \n",
       "46582                                                NaN   \n",
       "46591  e09e10e67812e9d236ad900e5d46b4308fc62f5d69446a...   \n",
       "46595  8da82000ef9c4468ba47362a924b895e40662fed846942...   \n",
       "46601  c5ef963994081d53520c520b85ca3cafbcd51eaa87c980...   \n",
       "46606  b936ee09e20b3b2234907cde349cda1c1a5327c4a486bf...   \n",
       "\n",
       "                                              utm_source  \\\n",
       "0      3d59f7548e1af2151b64135003ce63c0a484c26b9b8b16...   \n",
       "1      3d59f7548e1af2151b64135003ce63c0a484c26b9b8b16...   \n",
       "4      3d59f7548e1af2151b64135003ce63c0a484c26b9b8b16...   \n",
       "5      bbdefa2950f49882f295b1285d4fa9dec45fc4144bfb07...   \n",
       "8      bbdefa2950f49882f295b1285d4fa9dec45fc4144bfb07...   \n",
       "...                                                  ...   \n",
       "46582  3d59f7548e1af2151b64135003ce63c0a484c26b9b8b16...   \n",
       "46591  bbdefa2950f49882f295b1285d4fa9dec45fc4144bfb07...   \n",
       "46595  bbdefa2950f49882f295b1285d4fa9dec45fc4144bfb07...   \n",
       "46601  d15690f08a575024650b01ffac892cfd2b93e6c57c140f...   \n",
       "46606  7f3fa48ca885678134842fa7456f3ece53a97f843b6101...   \n",
       "\n",
       "                                              utm_medium  \\\n",
       "0      268ad70eb5bc4737a2ae28162cbca30118cc94520e49ef...   \n",
       "1      268ad70eb5bc4737a2ae28162cbca30118cc94520e49ef...   \n",
       "4      268ad70eb5bc4737a2ae28162cbca30118cc94520e49ef...   \n",
       "5      09076eb7665d1fb9389c7c4517fee0b00e43092eb34821...   \n",
       "8      09076eb7665d1fb9389c7c4517fee0b00e43092eb34821...   \n",
       "...                                                  ...   \n",
       "46582  268ad70eb5bc4737a2ae28162cbca30118cc94520e49ef...   \n",
       "46591  09076eb7665d1fb9389c7c4517fee0b00e43092eb34821...   \n",
       "46595  09076eb7665d1fb9389c7c4517fee0b00e43092eb34821...   \n",
       "46601                                                NaN   \n",
       "46606  abb8e2badd5b6265c3237170cc599257a4f566706715d2...   \n",
       "\n",
       "                                                des_city  \\\n",
       "0      ecc0e7dc084f141b29479058967d0bc07dee25d9690a98...   \n",
       "1      5372372f3bf5896820cb2819300c3e681820d82c6efc54...   \n",
       "4                                                    NaN   \n",
       "5      f19d051291d4364989e4e957ef610448af3e05863ee1b8...   \n",
       "8      5372372f3bf5896820cb2819300c3e681820d82c6efc54...   \n",
       "...                                                  ...   \n",
       "46582  e509e9f3fb8f1e6b3cee0b3e924eb6e533928aeca83653...   \n",
       "46591  c384826dfbfce62c3fd99a46984a56fe71546a85c2cb6c...   \n",
       "46595  ecc0e7dc084f141b29479058967d0bc07dee25d9690a98...   \n",
       "46601  ecc0e7dc084f141b29479058967d0bc07dee25d9690a98...   \n",
       "46606  ecc0e7dc084f141b29479058967d0bc07dee25d9690a98...   \n",
       "\n",
       "                                             des_country     room_type  \\\n",
       "0      8d23a6e37e0a6431a8f1b43a91026dcff51170a89a6512...       Ensuite   \n",
       "1      8d23a6e37e0a6431a8f1b43a91026dcff51170a89a6512...       Ensuite   \n",
       "4                                                    NaN  Entire Place   \n",
       "5      8d23a6e37e0a6431a8f1b43a91026dcff51170a89a6512...  Entire Place   \n",
       "8      8d23a6e37e0a6431a8f1b43a91026dcff51170a89a6512...       Ensuite   \n",
       "...                                                  ...           ...   \n",
       "46582  8d23a6e37e0a6431a8f1b43a91026dcff51170a89a6512...        Studio   \n",
       "46591  8d23a6e37e0a6431a8f1b43a91026dcff51170a89a6512...       Ensuite   \n",
       "46595  8d23a6e37e0a6431a8f1b43a91026dcff51170a89a6512...       Ensuite   \n",
       "46601  8d23a6e37e0a6431a8f1b43a91026dcff51170a89a6512...  Entire Place   \n",
       "46606  8d23a6e37e0a6431a8f1b43a91026dcff51170a89a6512...        Studio   \n",
       "\n",
       "                                                 lead_id  min_budget_week  \\\n",
       "0      cd5dc0d9393f3980d11d4ba6f88f8110c2b7a7f7796307...              NaN   \n",
       "1      b94693673a5f7178d1b114e4004ad52377d3244dd24a3d...              NaN   \n",
       "4      fc10fffd29cfbe93c55158fb47752a7501c211d253468c...              NaN   \n",
       "5      b26f82b657d94e19ef8382877006c3e9425d7e4ab836f9...            120.0   \n",
       "8      b26f82b657d94e19ef8382877006c3e9425d7e4ab836f9...            100.0   \n",
       "...                                                  ...              ...   \n",
       "46582  98b4f190437c95869d33b2747577a243d64a9ada8add3f...              NaN   \n",
       "46591  743ea7f9921b1934da12778ec450280dceba029da118e1...            215.0   \n",
       "46595  86ae1d25e92121dd581c75c958103bb3cc81ef4aa47fef...           1858.0   \n",
       "46601  201119c5a66fbf4782c071175d91766414509e7e06430a...           1529.0   \n",
       "46606  1f90dbad4873cb9673ff3c7ec69fbac4289181453c6cea...           1108.0   \n",
       "\n",
       "       max_budget_week  \n",
       "0                  NaN  \n",
       "1                  NaN  \n",
       "4                  NaN  \n",
       "5                  NaN  \n",
       "8                  NaN  \n",
       "...                ...  \n",
       "46582              NaN  \n",
       "46591              NaN  \n",
       "46595              NaN  \n",
       "46601              NaN  \n",
       "46606              NaN  \n",
       "\n",
       "[17223 rows x 17 columns]"
      ]
     },
     "execution_count": 38,
     "metadata": {},
     "output_type": "execute_result"
    }
   ],
   "source": [
    "data[data['max_budget_week'].isnull()]"
   ]
  },
  {
   "cell_type": "code",
   "execution_count": 39,
   "id": "41af15df",
   "metadata": {},
   "outputs": [],
   "source": [
    "#we seen that there are many missing values max budget week column fill with min budget column \n",
    "data['max_budget_week'].fillna(data['min_budget_week'], inplace=True)"
   ]
  },
  {
   "cell_type": "markdown",
   "id": "5604dbbf",
   "metadata": {},
   "source": [
    "# Selecting Important Features"
   ]
  },
  {
   "cell_type": "markdown",
   "id": "b71ca5f6",
   "metadata": {},
   "source": [
    "1.lost_reason very important column \n",
    "\n",
    "2.movein we check extracting feature like year month and day\n",
    "\n",
    "3.room_type is very important feature\n",
    "\n",
    "4.extracted feature min_budget_week its important budget minimum \n",
    "\n",
    "5.max_budget_week also important\n",
    "\n",
    "6.lease we have to extract how many weeks course "
   ]
  },
  {
   "cell_type": "code",
   "execution_count": 40,
   "id": "b5af7c37",
   "metadata": {},
   "outputs": [],
   "source": [
    "lead=data[['status','lost_reason', 'movein','room_type','min_budget_week', 'max_budget_week','lease']]"
   ]
  },
  {
   "cell_type": "code",
   "execution_count": 41,
   "id": "fd431ad0",
   "metadata": {},
   "outputs": [
    {
     "data": {
      "text/html": [
       "<div>\n",
       "<style scoped>\n",
       "    .dataframe tbody tr th:only-of-type {\n",
       "        vertical-align: middle;\n",
       "    }\n",
       "\n",
       "    .dataframe tbody tr th {\n",
       "        vertical-align: top;\n",
       "    }\n",
       "\n",
       "    .dataframe thead th {\n",
       "        text-align: right;\n",
       "    }\n",
       "</style>\n",
       "<table border=\"1\" class=\"dataframe\">\n",
       "  <thead>\n",
       "    <tr style=\"text-align: right;\">\n",
       "      <th></th>\n",
       "      <th>status</th>\n",
       "      <th>lost_reason</th>\n",
       "      <th>movein</th>\n",
       "      <th>room_type</th>\n",
       "      <th>min_budget_week</th>\n",
       "      <th>max_budget_week</th>\n",
       "      <th>lease</th>\n",
       "    </tr>\n",
       "  </thead>\n",
       "  <tbody>\n",
       "    <tr>\n",
       "      <th>0</th>\n",
       "      <td>LOST</td>\n",
       "      <td>Not responding</td>\n",
       "      <td>NaN</td>\n",
       "      <td>Ensuite</td>\n",
       "      <td>NaN</td>\n",
       "      <td>NaN</td>\n",
       "      <td>NaN</td>\n",
       "    </tr>\n",
       "    <tr>\n",
       "      <th>1</th>\n",
       "      <td>LOST</td>\n",
       "      <td>Low budget</td>\n",
       "      <td>NaN</td>\n",
       "      <td>Ensuite</td>\n",
       "      <td>NaN</td>\n",
       "      <td>NaN</td>\n",
       "      <td>NaN</td>\n",
       "    </tr>\n",
       "    <tr>\n",
       "      <th>2</th>\n",
       "      <td>LOST</td>\n",
       "      <td>Not responding</td>\n",
       "      <td>31/08/22</td>\n",
       "      <td>Ensuite</td>\n",
       "      <td>121.0</td>\n",
       "      <td>180.0</td>\n",
       "      <td>Full Year Course Stay 40 - 44 weeks</td>\n",
       "    </tr>\n",
       "    <tr>\n",
       "      <th>3</th>\n",
       "      <td>LOST</td>\n",
       "      <td>Low budget</td>\n",
       "      <td>NaN</td>\n",
       "      <td>Entire Place</td>\n",
       "      <td>0.0</td>\n",
       "      <td>0.0</td>\n",
       "      <td>0</td>\n",
       "    </tr>\n",
       "    <tr>\n",
       "      <th>4</th>\n",
       "      <td>LOST</td>\n",
       "      <td>Junk lead</td>\n",
       "      <td>NaN</td>\n",
       "      <td>Entire Place</td>\n",
       "      <td>NaN</td>\n",
       "      <td>NaN</td>\n",
       "      <td>NaN</td>\n",
       "    </tr>\n",
       "  </tbody>\n",
       "</table>\n",
       "</div>"
      ],
      "text/plain": [
       "  status     lost_reason    movein     room_type  min_budget_week  \\\n",
       "0   LOST  Not responding       NaN       Ensuite              NaN   \n",
       "1   LOST      Low budget       NaN       Ensuite              NaN   \n",
       "2   LOST  Not responding  31/08/22       Ensuite            121.0   \n",
       "3   LOST      Low budget       NaN  Entire Place              0.0   \n",
       "4   LOST       Junk lead       NaN  Entire Place              NaN   \n",
       "\n",
       "   max_budget_week                                lease  \n",
       "0              NaN                                  NaN  \n",
       "1              NaN                                  NaN  \n",
       "2            180.0  Full Year Course Stay 40 - 44 weeks  \n",
       "3              0.0                                    0  \n",
       "4              NaN                                  NaN  "
      ]
     },
     "execution_count": 41,
     "metadata": {},
     "output_type": "execute_result"
    }
   ],
   "source": [
    "lead.head()"
   ]
  },
  {
   "cell_type": "code",
   "execution_count": 42,
   "id": "c7f4cfbb",
   "metadata": {},
   "outputs": [
    {
     "data": {
      "text/plain": [
       "status                 0\n",
       "lost_reason            0\n",
       "movein             13610\n",
       "room_type              0\n",
       "min_budget_week     3724\n",
       "max_budget_week     3724\n",
       "lease               2336\n",
       "dtype: int64"
      ]
     },
     "execution_count": 42,
     "metadata": {},
     "output_type": "execute_result"
    }
   ],
   "source": [
    "lead.isnull().sum()"
   ]
  },
  {
   "cell_type": "code",
   "execution_count": 43,
   "id": "3bfeea01",
   "metadata": {},
   "outputs": [],
   "source": [
    "#droping null values\n",
    "mask=lead.dropna(axis=0)"
   ]
  },
  {
   "cell_type": "code",
   "execution_count": 44,
   "id": "0b1af749",
   "metadata": {},
   "outputs": [
    {
     "data": {
      "text/html": [
       "<div>\n",
       "<style scoped>\n",
       "    .dataframe tbody tr th:only-of-type {\n",
       "        vertical-align: middle;\n",
       "    }\n",
       "\n",
       "    .dataframe tbody tr th {\n",
       "        vertical-align: top;\n",
       "    }\n",
       "\n",
       "    .dataframe thead th {\n",
       "        text-align: right;\n",
       "    }\n",
       "</style>\n",
       "<table border=\"1\" class=\"dataframe\">\n",
       "  <thead>\n",
       "    <tr style=\"text-align: right;\">\n",
       "      <th></th>\n",
       "      <th>status</th>\n",
       "      <th>lost_reason</th>\n",
       "      <th>movein</th>\n",
       "      <th>room_type</th>\n",
       "      <th>min_budget_week</th>\n",
       "      <th>max_budget_week</th>\n",
       "      <th>lease</th>\n",
       "    </tr>\n",
       "  </thead>\n",
       "  <tbody>\n",
       "    <tr>\n",
       "      <th>2</th>\n",
       "      <td>LOST</td>\n",
       "      <td>Not responding</td>\n",
       "      <td>31/08/22</td>\n",
       "      <td>Ensuite</td>\n",
       "      <td>121.0</td>\n",
       "      <td>180.0</td>\n",
       "      <td>Full Year Course Stay 40 - 44 weeks</td>\n",
       "    </tr>\n",
       "    <tr>\n",
       "      <th>7</th>\n",
       "      <td>LOST</td>\n",
       "      <td>Wants private accommodation</td>\n",
       "      <td>08/09/22</td>\n",
       "      <td>Entire Place</td>\n",
       "      <td>181.0</td>\n",
       "      <td>240.0</td>\n",
       "      <td>51</td>\n",
       "    </tr>\n",
       "    <tr>\n",
       "      <th>11</th>\n",
       "      <td>LOST</td>\n",
       "      <td>Not responding</td>\n",
       "      <td>15/09/22</td>\n",
       "      <td>Ensuite</td>\n",
       "      <td>121.0</td>\n",
       "      <td>180.0</td>\n",
       "      <td>Full Year Course Stay 40 - 44 weeks</td>\n",
       "    </tr>\n",
       "    <tr>\n",
       "      <th>12</th>\n",
       "      <td>LOST</td>\n",
       "      <td>Wants private accommodation</td>\n",
       "      <td>02/09/22</td>\n",
       "      <td>Entire Place</td>\n",
       "      <td>121.0</td>\n",
       "      <td>180.0</td>\n",
       "      <td>Full Year Course Stay 40 - 44 weeks</td>\n",
       "    </tr>\n",
       "    <tr>\n",
       "      <th>13</th>\n",
       "      <td>LOST</td>\n",
       "      <td>Not responding</td>\n",
       "      <td>04/09/22</td>\n",
       "      <td>Entire Place</td>\n",
       "      <td>181.0</td>\n",
       "      <td>240.0</td>\n",
       "      <td>Complete Education Year Stay 50 - 52 weeks</td>\n",
       "    </tr>\n",
       "  </tbody>\n",
       "</table>\n",
       "</div>"
      ],
      "text/plain": [
       "   status                  lost_reason    movein     room_type  \\\n",
       "2    LOST               Not responding  31/08/22       Ensuite   \n",
       "7    LOST  Wants private accommodation  08/09/22  Entire Place   \n",
       "11   LOST               Not responding  15/09/22       Ensuite   \n",
       "12   LOST  Wants private accommodation  02/09/22  Entire Place   \n",
       "13   LOST               Not responding  04/09/22  Entire Place   \n",
       "\n",
       "    min_budget_week  max_budget_week  \\\n",
       "2             121.0            180.0   \n",
       "7             181.0            240.0   \n",
       "11            121.0            180.0   \n",
       "12            121.0            180.0   \n",
       "13            181.0            240.0   \n",
       "\n",
       "                                         lease  \n",
       "2          Full Year Course Stay 40 - 44 weeks  \n",
       "7                                           51  \n",
       "11         Full Year Course Stay 40 - 44 weeks  \n",
       "12         Full Year Course Stay 40 - 44 weeks  \n",
       "13  Complete Education Year Stay 50 - 52 weeks  "
      ]
     },
     "execution_count": 44,
     "metadata": {},
     "output_type": "execute_result"
    }
   ],
   "source": [
    "mask.head()"
   ]
  },
  {
   "cell_type": "code",
   "execution_count": 45,
   "id": "bd838312",
   "metadata": {},
   "outputs": [
    {
     "data": {
      "text/plain": [
       "status             0\n",
       "lost_reason        0\n",
       "movein             0\n",
       "room_type          0\n",
       "min_budget_week    0\n",
       "max_budget_week    0\n",
       "lease              0\n",
       "dtype: int64"
      ]
     },
     "execution_count": 45,
     "metadata": {},
     "output_type": "execute_result"
    }
   ],
   "source": [
    "mask.isnull().sum()"
   ]
  },
  {
   "cell_type": "code",
   "execution_count": 46,
   "id": "f6a8c2c9",
   "metadata": {},
   "outputs": [
    {
     "data": {
      "text/plain": [
       "(31320, 7)"
      ]
     },
     "execution_count": 46,
     "metadata": {},
     "output_type": "execute_result"
    }
   ],
   "source": [
    "mask.shape"
   ]
  },
  {
   "cell_type": "code",
   "execution_count": 47,
   "id": "77345962",
   "metadata": {},
   "outputs": [
    {
     "data": {
      "text/html": [
       "<div>\n",
       "<style scoped>\n",
       "    .dataframe tbody tr th:only-of-type {\n",
       "        vertical-align: middle;\n",
       "    }\n",
       "\n",
       "    .dataframe tbody tr th {\n",
       "        vertical-align: top;\n",
       "    }\n",
       "\n",
       "    .dataframe thead th {\n",
       "        text-align: right;\n",
       "    }\n",
       "</style>\n",
       "<table border=\"1\" class=\"dataframe\">\n",
       "  <thead>\n",
       "    <tr style=\"text-align: right;\">\n",
       "      <th></th>\n",
       "      <th>status</th>\n",
       "      <th>lost_reason</th>\n",
       "      <th>movein</th>\n",
       "      <th>room_type</th>\n",
       "      <th>min_budget_week</th>\n",
       "      <th>max_budget_week</th>\n",
       "      <th>lease</th>\n",
       "    </tr>\n",
       "  </thead>\n",
       "  <tbody>\n",
       "    <tr>\n",
       "      <th>111</th>\n",
       "      <td>WON</td>\n",
       "      <td>Low availability</td>\n",
       "      <td>09/09/22</td>\n",
       "      <td>Studio</td>\n",
       "      <td>121.0</td>\n",
       "      <td>180.0</td>\n",
       "      <td>Full Year Course Stay 40 - 44 weeks</td>\n",
       "    </tr>\n",
       "    <tr>\n",
       "      <th>139</th>\n",
       "      <td>WON</td>\n",
       "      <td>Low availability</td>\n",
       "      <td>29/09/22</td>\n",
       "      <td>Entire Place</td>\n",
       "      <td>181.0</td>\n",
       "      <td>240.0</td>\n",
       "      <td>Full Year Course Stay 40 - 44 weeks</td>\n",
       "    </tr>\n",
       "    <tr>\n",
       "      <th>141</th>\n",
       "      <td>WON</td>\n",
       "      <td>Low availability</td>\n",
       "      <td>07/09/22</td>\n",
       "      <td>Ensuite</td>\n",
       "      <td>300.0</td>\n",
       "      <td>300.0</td>\n",
       "      <td>Complete Education Year Stay 50 - 52 weeks</td>\n",
       "    </tr>\n",
       "    <tr>\n",
       "      <th>152</th>\n",
       "      <td>WON</td>\n",
       "      <td>Low availability</td>\n",
       "      <td>31/08/22</td>\n",
       "      <td>Entire Place</td>\n",
       "      <td>121.0</td>\n",
       "      <td>180.0</td>\n",
       "      <td>Full Year Course Stay 40 - 44 weeks</td>\n",
       "    </tr>\n",
       "    <tr>\n",
       "      <th>161</th>\n",
       "      <td>WON</td>\n",
       "      <td>Low availability</td>\n",
       "      <td>10/07/22</td>\n",
       "      <td>Ensuite</td>\n",
       "      <td>121.0</td>\n",
       "      <td>180.0</td>\n",
       "      <td>Complete Education Year Stay 50 - 52 weeks</td>\n",
       "    </tr>\n",
       "    <tr>\n",
       "      <th>...</th>\n",
       "      <td>...</td>\n",
       "      <td>...</td>\n",
       "      <td>...</td>\n",
       "      <td>...</td>\n",
       "      <td>...</td>\n",
       "      <td>...</td>\n",
       "      <td>...</td>\n",
       "    </tr>\n",
       "    <tr>\n",
       "      <th>46559</th>\n",
       "      <td>WON</td>\n",
       "      <td>Low availability</td>\n",
       "      <td>01/10/22</td>\n",
       "      <td>Ensuite</td>\n",
       "      <td>139.0</td>\n",
       "      <td>139.0</td>\n",
       "      <td>42</td>\n",
       "    </tr>\n",
       "    <tr>\n",
       "      <th>46566</th>\n",
       "      <td>WON</td>\n",
       "      <td>Low availability</td>\n",
       "      <td>10/09/22</td>\n",
       "      <td>Ensuite</td>\n",
       "      <td>179.0</td>\n",
       "      <td>179.0</td>\n",
       "      <td>51</td>\n",
       "    </tr>\n",
       "    <tr>\n",
       "      <th>46570</th>\n",
       "      <td>WON</td>\n",
       "      <td>Low availability</td>\n",
       "      <td>16/09/22</td>\n",
       "      <td>Entire Place</td>\n",
       "      <td>180.0</td>\n",
       "      <td>180.0</td>\n",
       "      <td>44</td>\n",
       "    </tr>\n",
       "    <tr>\n",
       "      <th>46586</th>\n",
       "      <td>WON</td>\n",
       "      <td>Low availability</td>\n",
       "      <td>05/09/22</td>\n",
       "      <td>Studio</td>\n",
       "      <td>121.0</td>\n",
       "      <td>180.0</td>\n",
       "      <td>Complete Education Year Stay 50 - 52 weeks</td>\n",
       "    </tr>\n",
       "    <tr>\n",
       "      <th>46592</th>\n",
       "      <td>WON</td>\n",
       "      <td>Low availability</td>\n",
       "      <td>12/09/22</td>\n",
       "      <td>Ensuite</td>\n",
       "      <td>60.0</td>\n",
       "      <td>120.0</td>\n",
       "      <td>Full Year Course Stay 40 - 44 weeks</td>\n",
       "    </tr>\n",
       "  </tbody>\n",
       "</table>\n",
       "<p>2388 rows × 7 columns</p>\n",
       "</div>"
      ],
      "text/plain": [
       "      status       lost_reason    movein     room_type  min_budget_week  \\\n",
       "111      WON  Low availability  09/09/22        Studio            121.0   \n",
       "139      WON  Low availability  29/09/22  Entire Place            181.0   \n",
       "141      WON  Low availability  07/09/22       Ensuite            300.0   \n",
       "152      WON  Low availability  31/08/22  Entire Place            121.0   \n",
       "161      WON  Low availability  10/07/22       Ensuite            121.0   \n",
       "...      ...               ...       ...           ...              ...   \n",
       "46559    WON  Low availability  01/10/22       Ensuite            139.0   \n",
       "46566    WON  Low availability  10/09/22       Ensuite            179.0   \n",
       "46570    WON  Low availability  16/09/22  Entire Place            180.0   \n",
       "46586    WON  Low availability  05/09/22        Studio            121.0   \n",
       "46592    WON  Low availability  12/09/22       Ensuite             60.0   \n",
       "\n",
       "       max_budget_week                                       lease  \n",
       "111              180.0         Full Year Course Stay 40 - 44 weeks  \n",
       "139              240.0         Full Year Course Stay 40 - 44 weeks  \n",
       "141              300.0  Complete Education Year Stay 50 - 52 weeks  \n",
       "152              180.0         Full Year Course Stay 40 - 44 weeks  \n",
       "161              180.0  Complete Education Year Stay 50 - 52 weeks  \n",
       "...                ...                                         ...  \n",
       "46559            139.0                                          42  \n",
       "46566            179.0                                          51  \n",
       "46570            180.0                                          44  \n",
       "46586            180.0  Complete Education Year Stay 50 - 52 weeks  \n",
       "46592            120.0         Full Year Course Stay 40 - 44 weeks  \n",
       "\n",
       "[2388 rows x 7 columns]"
      ]
     },
     "execution_count": 47,
     "metadata": {},
     "output_type": "execute_result"
    }
   ],
   "source": [
    "mask[mask['status']=='WON']"
   ]
  },
  {
   "cell_type": "code",
   "execution_count": 48,
   "id": "9370682c",
   "metadata": {},
   "outputs": [],
   "source": [
    "#convert all string to lowercase\n",
    "mask=mask.apply(lambda x: x.str.lower() if x.dtype == \"object\" else x)"
   ]
  },
  {
   "cell_type": "code",
   "execution_count": 49,
   "id": "56f01e22",
   "metadata": {},
   "outputs": [
    {
     "data": {
      "text/plain": [
       "(31320, 7)"
      ]
     },
     "execution_count": 49,
     "metadata": {},
     "output_type": "execute_result"
    }
   ],
   "source": [
    "mask.shape"
   ]
  },
  {
   "cell_type": "code",
   "execution_count": 50,
   "id": "d0533418",
   "metadata": {},
   "outputs": [
    {
     "data": {
      "text/plain": [
       "status              object\n",
       "lost_reason         object\n",
       "movein              object\n",
       "room_type           object\n",
       "min_budget_week    float64\n",
       "max_budget_week    float64\n",
       "lease               object\n",
       "dtype: object"
      ]
     },
     "execution_count": 50,
     "metadata": {},
     "output_type": "execute_result"
    }
   ],
   "source": [
    "mask.dtypes"
   ]
  },
  {
   "cell_type": "code",
   "execution_count": 51,
   "id": "223fa2d7",
   "metadata": {},
   "outputs": [],
   "source": [
    "#import labelencoder and fit on the categorical column\n",
    "from sklearn.preprocessing import LabelEncoder\n",
    "le = LabelEncoder()\n"
   ]
  },
  {
   "cell_type": "code",
   "execution_count": 52,
   "id": "9d062476",
   "metadata": {},
   "outputs": [],
   "source": [
    "# fit and transform the 'status' column\n",
    "mask['status'] = le.fit_transform(mask['status'])"
   ]
  },
  {
   "cell_type": "code",
   "execution_count": 53,
   "id": "31950f66",
   "metadata": {},
   "outputs": [
    {
     "data": {
      "text/plain": [
       "array([0, 1])"
      ]
     },
     "execution_count": 53,
     "metadata": {},
     "output_type": "execute_result"
    }
   ],
   "source": [
    "mask['status'].unique()"
   ]
  },
  {
   "cell_type": "code",
   "execution_count": 54,
   "id": "c1ba6680",
   "metadata": {},
   "outputs": [],
   "source": [
    "mask['lost_reason'] = le.fit_transform(mask['lost_reason'])"
   ]
  },
  {
   "cell_type": "code",
   "execution_count": 55,
   "id": "d2892338",
   "metadata": {},
   "outputs": [
    {
     "data": {
      "text/plain": [
       "array([21, 29,  8, 20, 10,  5, 16, 18, 15, 26, 25, 28,  2,  7, 24,  9, 19,\n",
       "       11,  0, 23,  1, 17, 22, 12, 27,  4,  6, 14, 13,  3])"
      ]
     },
     "execution_count": 55,
     "metadata": {},
     "output_type": "execute_result"
    }
   ],
   "source": [
    "mask['lost_reason'].unique()"
   ]
  },
  {
   "cell_type": "code",
   "execution_count": 56,
   "id": "df819a8a",
   "metadata": {},
   "outputs": [],
   "source": [
    "mask['room_type'] = le.fit_transform(mask['room_type'])"
   ]
  },
  {
   "cell_type": "code",
   "execution_count": 57,
   "id": "c47eee67",
   "metadata": {},
   "outputs": [
    {
     "data": {
      "text/plain": [
       "array([0, 1, 3, 4, 2])"
      ]
     },
     "execution_count": 57,
     "metadata": {},
     "output_type": "execute_result"
    }
   ],
   "source": [
    "mask['room_type'].unique()"
   ]
  },
  {
   "cell_type": "code",
   "execution_count": 58,
   "id": "0fbcfc5b",
   "metadata": {},
   "outputs": [],
   "source": [
    "mask['lease'] = le.fit_transform(mask['lease'])"
   ]
  },
  {
   "cell_type": "code",
   "execution_count": 59,
   "id": "43d58abd",
   "metadata": {},
   "outputs": [
    {
     "data": {
      "text/plain": [
       "status               int32\n",
       "lost_reason          int32\n",
       "movein              object\n",
       "room_type            int32\n",
       "min_budget_week    float64\n",
       "max_budget_week    float64\n",
       "lease                int32\n",
       "dtype: object"
      ]
     },
     "execution_count": 59,
     "metadata": {},
     "output_type": "execute_result"
    }
   ],
   "source": [
    "mask.dtypes"
   ]
  },
  {
   "cell_type": "code",
   "execution_count": 60,
   "id": "bb2bd588",
   "metadata": {},
   "outputs": [
    {
     "data": {
      "text/plain": [
       "status             0\n",
       "lost_reason        0\n",
       "movein             0\n",
       "room_type          0\n",
       "min_budget_week    0\n",
       "max_budget_week    0\n",
       "lease              0\n",
       "dtype: int64"
      ]
     },
     "execution_count": 60,
     "metadata": {},
     "output_type": "execute_result"
    }
   ],
   "source": [
    "mask.isnull().sum()"
   ]
  },
  {
   "cell_type": "code",
   "execution_count": 61,
   "id": "86c377b2",
   "metadata": {},
   "outputs": [
    {
     "data": {
      "text/plain": [
       "status               int32\n",
       "lost_reason          int32\n",
       "movein              object\n",
       "room_type            int32\n",
       "min_budget_week    float64\n",
       "max_budget_week    float64\n",
       "lease                int32\n",
       "dtype: object"
      ]
     },
     "execution_count": 61,
     "metadata": {},
     "output_type": "execute_result"
    }
   ],
   "source": [
    "mask.dtypes"
   ]
  },
  {
   "cell_type": "code",
   "execution_count": 62,
   "id": "6d097227",
   "metadata": {},
   "outputs": [],
   "source": [
    "mask['movein'] = pd.to_datetime(mask['movein'])"
   ]
  },
  {
   "cell_type": "code",
   "execution_count": 63,
   "id": "7d06badd",
   "metadata": {},
   "outputs": [
    {
     "data": {
      "text/plain": [
       "status                      int32\n",
       "lost_reason                 int32\n",
       "movein             datetime64[ns]\n",
       "room_type                   int32\n",
       "min_budget_week           float64\n",
       "max_budget_week           float64\n",
       "lease                       int32\n",
       "dtype: object"
      ]
     },
     "execution_count": 63,
     "metadata": {},
     "output_type": "execute_result"
    }
   ],
   "source": [
    "mask.dtypes"
   ]
  },
  {
   "cell_type": "code",
   "execution_count": 64,
   "id": "6a78a758",
   "metadata": {},
   "outputs": [
    {
     "data": {
      "text/plain": [
       "status             0\n",
       "lost_reason        0\n",
       "movein             0\n",
       "room_type          0\n",
       "min_budget_week    0\n",
       "max_budget_week    0\n",
       "lease              0\n",
       "dtype: int64"
      ]
     },
     "execution_count": 64,
     "metadata": {},
     "output_type": "execute_result"
    }
   ],
   "source": [
    "mask.isnull().sum()"
   ]
  },
  {
   "cell_type": "code",
   "execution_count": 65,
   "id": "740923f3",
   "metadata": {},
   "outputs": [
    {
     "data": {
      "text/plain": [
       "(31320, 7)"
      ]
     },
     "execution_count": 65,
     "metadata": {},
     "output_type": "execute_result"
    }
   ],
   "source": [
    "mask.shape"
   ]
  },
  {
   "cell_type": "code",
   "execution_count": 66,
   "id": "62ed3d03",
   "metadata": {},
   "outputs": [],
   "source": [
    "mask['year'] = mask['movein'].dt.year\n",
    "mask['month'] = mask['movein'].dt.month"
   ]
  },
  {
   "cell_type": "code",
   "execution_count": 67,
   "id": "d4fd9c4c",
   "metadata": {},
   "outputs": [
    {
     "data": {
      "text/html": [
       "<div>\n",
       "<style scoped>\n",
       "    .dataframe tbody tr th:only-of-type {\n",
       "        vertical-align: middle;\n",
       "    }\n",
       "\n",
       "    .dataframe tbody tr th {\n",
       "        vertical-align: top;\n",
       "    }\n",
       "\n",
       "    .dataframe thead th {\n",
       "        text-align: right;\n",
       "    }\n",
       "</style>\n",
       "<table border=\"1\" class=\"dataframe\">\n",
       "  <thead>\n",
       "    <tr style=\"text-align: right;\">\n",
       "      <th></th>\n",
       "      <th>status</th>\n",
       "      <th>lost_reason</th>\n",
       "      <th>movein</th>\n",
       "      <th>room_type</th>\n",
       "      <th>min_budget_week</th>\n",
       "      <th>max_budget_week</th>\n",
       "      <th>lease</th>\n",
       "      <th>year</th>\n",
       "      <th>month</th>\n",
       "    </tr>\n",
       "  </thead>\n",
       "  <tbody>\n",
       "    <tr>\n",
       "      <th>2</th>\n",
       "      <td>0</td>\n",
       "      <td>21</td>\n",
       "      <td>2022-08-31</td>\n",
       "      <td>0</td>\n",
       "      <td>121.0</td>\n",
       "      <td>180.0</td>\n",
       "      <td>213</td>\n",
       "      <td>2022</td>\n",
       "      <td>8</td>\n",
       "    </tr>\n",
       "    <tr>\n",
       "      <th>7</th>\n",
       "      <td>0</td>\n",
       "      <td>29</td>\n",
       "      <td>2022-08-09</td>\n",
       "      <td>1</td>\n",
       "      <td>181.0</td>\n",
       "      <td>240.0</td>\n",
       "      <td>166</td>\n",
       "      <td>2022</td>\n",
       "      <td>8</td>\n",
       "    </tr>\n",
       "    <tr>\n",
       "      <th>11</th>\n",
       "      <td>0</td>\n",
       "      <td>21</td>\n",
       "      <td>2022-09-15</td>\n",
       "      <td>0</td>\n",
       "      <td>121.0</td>\n",
       "      <td>180.0</td>\n",
       "      <td>213</td>\n",
       "      <td>2022</td>\n",
       "      <td>9</td>\n",
       "    </tr>\n",
       "    <tr>\n",
       "      <th>12</th>\n",
       "      <td>0</td>\n",
       "      <td>29</td>\n",
       "      <td>2022-02-09</td>\n",
       "      <td>1</td>\n",
       "      <td>121.0</td>\n",
       "      <td>180.0</td>\n",
       "      <td>213</td>\n",
       "      <td>2022</td>\n",
       "      <td>2</td>\n",
       "    </tr>\n",
       "    <tr>\n",
       "      <th>13</th>\n",
       "      <td>0</td>\n",
       "      <td>21</td>\n",
       "      <td>2022-04-09</td>\n",
       "      <td>1</td>\n",
       "      <td>181.0</td>\n",
       "      <td>240.0</td>\n",
       "      <td>210</td>\n",
       "      <td>2022</td>\n",
       "      <td>4</td>\n",
       "    </tr>\n",
       "  </tbody>\n",
       "</table>\n",
       "</div>"
      ],
      "text/plain": [
       "    status  lost_reason     movein  room_type  min_budget_week  \\\n",
       "2        0           21 2022-08-31          0            121.0   \n",
       "7        0           29 2022-08-09          1            181.0   \n",
       "11       0           21 2022-09-15          0            121.0   \n",
       "12       0           29 2022-02-09          1            121.0   \n",
       "13       0           21 2022-04-09          1            181.0   \n",
       "\n",
       "    max_budget_week  lease  year  month  \n",
       "2             180.0    213  2022      8  \n",
       "7             240.0    166  2022      8  \n",
       "11            180.0    213  2022      9  \n",
       "12            180.0    213  2022      2  \n",
       "13            240.0    210  2022      4  "
      ]
     },
     "execution_count": 67,
     "metadata": {},
     "output_type": "execute_result"
    }
   ],
   "source": [
    "mask.head()"
   ]
  },
  {
   "cell_type": "code",
   "execution_count": 68,
   "id": "ca034c2d",
   "metadata": {},
   "outputs": [
    {
     "data": {
      "text/plain": [
       "array([2022, 2023, 2024, 2005, 2002, 2003, 2021, 2070, 2004, 2006, 2020,\n",
       "       2012, 2010, 1999], dtype=int64)"
      ]
     },
     "execution_count": 68,
     "metadata": {},
     "output_type": "execute_result"
    }
   ],
   "source": [
    "mask['year'].unique()"
   ]
  },
  {
   "cell_type": "code",
   "execution_count": 69,
   "id": "1a75638d",
   "metadata": {},
   "outputs": [
    {
     "data": {
      "text/plain": [
       "array([ 8,  9,  2,  4, 10,  6, 11,  1,  5,  7, 12,  3], dtype=int64)"
      ]
     },
     "execution_count": 69,
     "metadata": {},
     "output_type": "execute_result"
    }
   ],
   "source": [
    "mask['month'].unique()"
   ]
  },
  {
   "cell_type": "code",
   "execution_count": 70,
   "id": "363d03b8",
   "metadata": {},
   "outputs": [],
   "source": [
    "mask['day_of_month'] = mask['movein'].dt.day"
   ]
  },
  {
   "cell_type": "code",
   "execution_count": 71,
   "id": "bfab0891",
   "metadata": {},
   "outputs": [
    {
     "data": {
      "text/plain": [
       "array([31,  9, 15,  8, 16, 30, 18, 25, 29, 14, 24,  7,  1, 20, 26, 10, 19,\n",
       "       23, 22, 21, 13,  6, 28, 17, 12, 11, 27,  4,  2,  3,  5],\n",
       "      dtype=int64)"
      ]
     },
     "execution_count": 71,
     "metadata": {},
     "output_type": "execute_result"
    }
   ],
   "source": [
    "mask['day_of_month'].unique()"
   ]
  },
  {
   "cell_type": "code",
   "execution_count": 72,
   "id": "5046135d",
   "metadata": {},
   "outputs": [
    {
     "data": {
      "text/html": [
       "<div>\n",
       "<style scoped>\n",
       "    .dataframe tbody tr th:only-of-type {\n",
       "        vertical-align: middle;\n",
       "    }\n",
       "\n",
       "    .dataframe tbody tr th {\n",
       "        vertical-align: top;\n",
       "    }\n",
       "\n",
       "    .dataframe thead th {\n",
       "        text-align: right;\n",
       "    }\n",
       "</style>\n",
       "<table border=\"1\" class=\"dataframe\">\n",
       "  <thead>\n",
       "    <tr style=\"text-align: right;\">\n",
       "      <th></th>\n",
       "      <th>status</th>\n",
       "      <th>lost_reason</th>\n",
       "      <th>movein</th>\n",
       "      <th>room_type</th>\n",
       "      <th>min_budget_week</th>\n",
       "      <th>max_budget_week</th>\n",
       "      <th>lease</th>\n",
       "      <th>year</th>\n",
       "      <th>month</th>\n",
       "      <th>day_of_month</th>\n",
       "    </tr>\n",
       "  </thead>\n",
       "  <tbody>\n",
       "    <tr>\n",
       "      <th>2</th>\n",
       "      <td>0</td>\n",
       "      <td>21</td>\n",
       "      <td>2022-08-31</td>\n",
       "      <td>0</td>\n",
       "      <td>121.0</td>\n",
       "      <td>180.0</td>\n",
       "      <td>213</td>\n",
       "      <td>2022</td>\n",
       "      <td>8</td>\n",
       "      <td>31</td>\n",
       "    </tr>\n",
       "    <tr>\n",
       "      <th>7</th>\n",
       "      <td>0</td>\n",
       "      <td>29</td>\n",
       "      <td>2022-08-09</td>\n",
       "      <td>1</td>\n",
       "      <td>181.0</td>\n",
       "      <td>240.0</td>\n",
       "      <td>166</td>\n",
       "      <td>2022</td>\n",
       "      <td>8</td>\n",
       "      <td>9</td>\n",
       "    </tr>\n",
       "    <tr>\n",
       "      <th>11</th>\n",
       "      <td>0</td>\n",
       "      <td>21</td>\n",
       "      <td>2022-09-15</td>\n",
       "      <td>0</td>\n",
       "      <td>121.0</td>\n",
       "      <td>180.0</td>\n",
       "      <td>213</td>\n",
       "      <td>2022</td>\n",
       "      <td>9</td>\n",
       "      <td>15</td>\n",
       "    </tr>\n",
       "    <tr>\n",
       "      <th>12</th>\n",
       "      <td>0</td>\n",
       "      <td>29</td>\n",
       "      <td>2022-02-09</td>\n",
       "      <td>1</td>\n",
       "      <td>121.0</td>\n",
       "      <td>180.0</td>\n",
       "      <td>213</td>\n",
       "      <td>2022</td>\n",
       "      <td>2</td>\n",
       "      <td>9</td>\n",
       "    </tr>\n",
       "    <tr>\n",
       "      <th>13</th>\n",
       "      <td>0</td>\n",
       "      <td>21</td>\n",
       "      <td>2022-04-09</td>\n",
       "      <td>1</td>\n",
       "      <td>181.0</td>\n",
       "      <td>240.0</td>\n",
       "      <td>210</td>\n",
       "      <td>2022</td>\n",
       "      <td>4</td>\n",
       "      <td>9</td>\n",
       "    </tr>\n",
       "  </tbody>\n",
       "</table>\n",
       "</div>"
      ],
      "text/plain": [
       "    status  lost_reason     movein  room_type  min_budget_week  \\\n",
       "2        0           21 2022-08-31          0            121.0   \n",
       "7        0           29 2022-08-09          1            181.0   \n",
       "11       0           21 2022-09-15          0            121.0   \n",
       "12       0           29 2022-02-09          1            121.0   \n",
       "13       0           21 2022-04-09          1            181.0   \n",
       "\n",
       "    max_budget_week  lease  year  month  day_of_month  \n",
       "2             180.0    213  2022      8            31  \n",
       "7             240.0    166  2022      8             9  \n",
       "11            180.0    213  2022      9            15  \n",
       "12            180.0    213  2022      2             9  \n",
       "13            240.0    210  2022      4             9  "
      ]
     },
     "execution_count": 72,
     "metadata": {},
     "output_type": "execute_result"
    }
   ],
   "source": [
    "mask.head()"
   ]
  },
  {
   "cell_type": "code",
   "execution_count": 73,
   "id": "fc67af48",
   "metadata": {},
   "outputs": [],
   "source": [
    "mask['day_of_week'] = mask['movein'].dt.dayofweek"
   ]
  },
  {
   "cell_type": "code",
   "execution_count": 74,
   "id": "32a4202e",
   "metadata": {},
   "outputs": [
    {
     "data": {
      "text/plain": [
       "array([2, 1, 3, 5, 4, 6, 0], dtype=int64)"
      ]
     },
     "execution_count": 74,
     "metadata": {},
     "output_type": "execute_result"
    }
   ],
   "source": [
    "mask['day_of_week'].unique()"
   ]
  },
  {
   "cell_type": "code",
   "execution_count": 75,
   "id": "7d032613",
   "metadata": {},
   "outputs": [],
   "source": [
    "mask.to_csv('lead_score.csv')"
   ]
  },
  {
   "cell_type": "code",
   "execution_count": 76,
   "id": "ed5fe669",
   "metadata": {},
   "outputs": [],
   "source": [
    "#import train test split\n",
    "from sklearn.model_selection import train_test_split"
   ]
  },
  {
   "cell_type": "code",
   "execution_count": 77,
   "id": "f32aaf24",
   "metadata": {},
   "outputs": [],
   "source": [
    "X = mask.drop(['status','movein'], axis=1)\n",
    "y = mask['status']\n",
    "\n",
    "# split the dataset into training and testing sets\n",
    "X_train, X_test, y_train, y_test = train_test_split(X, y, test_size=0.2, random_state=42)\n"
   ]
  },
  {
   "cell_type": "code",
   "execution_count": 78,
   "id": "151c0953",
   "metadata": {},
   "outputs": [
    {
     "name": "stdout",
     "output_type": "stream",
     "text": [
      "Resampled dataset shape Counter({0: 28932, 1: 28932})\n"
     ]
    }
   ],
   "source": [
    "#dataset is imbalnaced we have balance using smote\n",
    "from imblearn.over_sampling import SMOTE\n",
    "from sklearn.datasets import make_classification\n",
    "from collections import Counter\n",
    "\n",
    "smote = SMOTE(random_state=42)\n",
    "X_resampled, y_resampled = smote.fit_resample(X, y)\n",
    "\n",
    "# Print the class distribution after applying SMOTE\n",
    "print('Resampled dataset shape %s' % Counter(y_resampled))"
   ]
  },
  {
   "cell_type": "code",
   "execution_count": 79,
   "id": "6f03cc38",
   "metadata": {},
   "outputs": [],
   "source": [
    "# split the dataset into training and testing sets\n",
    "X_train, X_test, y_train, y_test = train_test_split(X_resampled, y_resampled, test_size=0.2, random_state=42)"
   ]
  },
  {
   "cell_type": "code",
   "execution_count": 80,
   "id": "b0fa17dd",
   "metadata": {},
   "outputs": [],
   "source": [
    "#scaling values using standard scaler (0-1)\n",
    "from sklearn.preprocessing import StandardScaler\n",
    "scaler = StandardScaler()\n",
    "\n",
    "# fit and transform the features\n",
    "X_train = scaler.fit_transform(X_train)\n",
    "X_test = scaler.fit_transform(X_test)"
   ]
  },
  {
   "cell_type": "markdown",
   "id": "005d188a",
   "metadata": {},
   "source": [
    "# Model"
   ]
  },
  {
   "cell_type": "markdown",
   "id": "784ea438",
   "metadata": {},
   "source": [
    "# 1.Logistic Regression"
   ]
  },
  {
   "cell_type": "code",
   "execution_count": 81,
   "id": "e1c33272",
   "metadata": {},
   "outputs": [
    {
     "name": "stdout",
     "output_type": "stream",
     "text": [
      "Accuracy of logistic regression model: 0.77\n"
     ]
    }
   ],
   "source": [
    "from sklearn.linear_model import LogisticRegression\n",
    "logreg = LogisticRegression()\n",
    "\n",
    "# fit the model on the training data\n",
    "logreg.fit(X_train, y_train)\n",
    "\n",
    "# make predictions on the testing data\n",
    "y_pred = logreg.predict(X_test)\n",
    "\n",
    "# evaluate the model\n",
    "accuracy = logreg.score(X_test, y_test)\n",
    "print(f\"Accuracy of logistic regression model: {accuracy:.2f}\")"
   ]
  },
  {
   "cell_type": "code",
   "execution_count": 82,
   "id": "127ec49a",
   "metadata": {},
   "outputs": [
    {
     "data": {
      "text/plain": [
       "0.7624160203927329"
      ]
     },
     "execution_count": 82,
     "metadata": {},
     "output_type": "execute_result"
    }
   ],
   "source": [
    "logreg.score(X_train, y_train)"
   ]
  },
  {
   "cell_type": "markdown",
   "id": "4592f44c",
   "metadata": {},
   "source": [
    "Logistic Regression model score on test set 82% on train 81%"
   ]
  },
  {
   "cell_type": "markdown",
   "id": "0ba2b970",
   "metadata": {},
   "source": [
    "# 2. Decision Classifier"
   ]
  },
  {
   "cell_type": "code",
   "execution_count": 83,
   "id": "aeea2b82",
   "metadata": {},
   "outputs": [
    {
     "name": "stdout",
     "output_type": "stream",
     "text": [
      "F1-score: 0.81\n",
      "Precision: 0.83\n",
      "Recall: 0.81\n",
      "Accuracy: 0.81\n"
     ]
    }
   ],
   "source": [
    "#import accuracy score,precision score,recall score and f1 score\n",
    "from sklearn.metrics import accuracy_score, precision_score, recall_score, f1_score\n",
    "from sklearn.tree import DecisionTreeClassifier\n",
    "# create an instance of the decision tree classifier\n",
    "dt = DecisionTreeClassifier()\n",
    "# fit the model on the training data\n",
    "dt.fit(X_train, y_train)\n",
    "# make predictions on the testing data\n",
    "y_pred = dt.predict(X_test)\n",
    "# evaluate the model\n",
    "f1_score_val = f1_score(y_test, y_pred, average='macro')\n",
    "precision_val = precision_score(y_test, y_pred, average='macro')\n",
    "recall_val = recall_score(y_test, y_pred, average='macro')\n",
    "accuracy_val = accuracy_score(y_test, y_pred)\n",
    "\n",
    "# print evaluation metrics\n",
    "print(f\"F1-score: {f1_score_val:.2f}\")\n",
    "print(f\"Precision: {precision_val:.2f}\")\n",
    "print(f\"Recall: {recall_val:.2f}\")\n",
    "print(f\"Accuracy: {accuracy_val:.2f}\")"
   ]
  },
  {
   "cell_type": "markdown",
   "id": "1cedbd81",
   "metadata": {},
   "source": [
    "# 3. XGB Classifier"
   ]
  },
  {
   "cell_type": "code",
   "execution_count": 96,
   "id": "32bbf0cb",
   "metadata": {},
   "outputs": [
    {
     "name": "stdout",
     "output_type": "stream",
     "text": [
      "F1-score: 0.86\n",
      "Precision: 0.87\n",
      "Recall: 0.86\n",
      "Accuracy: 0.86\n"
     ]
    }
   ],
   "source": [
    "import xgboost as xgb\n",
    "# create an XGBoost classifier\n",
    "clf = xgb.XGBClassifier()\n",
    "\n",
    "# train the classifier on the training set\n",
    "clf.fit(X_train, y_train)\n",
    "\n",
    "# predict the target values for the test set\n",
    "y_pred = clf.predict(X_test)\n",
    "\n",
    "# calculate the evaluation metrics\n",
    "f1 = f1_score(y_test, y_pred, average='macro')\n",
    "precision = precision_score(y_test, y_pred, average='macro')\n",
    "recall = recall_score(y_test, y_pred, average='macro')\n",
    "accuracy = accuracy_score(y_test, y_pred)\n",
    "\n",
    "# print the evaluation metrics\n",
    "print(f\"F1-score: {f1:.2f}\")\n",
    "print(f\"Precision: {precision:.2f}\")\n",
    "print(f\"Recall: {recall:.2f}\")\n",
    "print(f\"Accuracy: {accuracy:.2f}\")"
   ]
  },
  {
   "cell_type": "code",
   "execution_count": 97,
   "id": "b48211a3",
   "metadata": {},
   "outputs": [
    {
     "name": "stdout",
     "output_type": "stream",
     "text": [
      "Feature: 0, Score: 0.95391\n",
      "Feature: 1, Score: 0.00478\n",
      "Feature: 2, Score: 0.00533\n",
      "Feature: 3, Score: 0.00367\n",
      "Feature: 4, Score: 0.00680\n",
      "Feature: 5, Score: 0.01381\n",
      "Feature: 6, Score: 0.00414\n",
      "Feature: 7, Score: 0.00343\n",
      "Feature: 8, Score: 0.00414\n"
     ]
    },
    {
     "data": {
      "image/png": "[encoded data removed]",
      "text/plain": [
       "<Figure size 640x480 with 1 Axes>"
      ]
     },
     "metadata": {},
     "output_type": "display_data"
    }
   ],
   "source": [
    "# get importance\n",
    "import matplotlib.pyplot as plt\n",
    "importance =clf.feature_importances_\n",
    "# summarize feature importance\n",
    "for i,v in enumerate(importance):\n",
    "\tprint('Feature: %0d, Score: %.5f' % (i,v))\n",
    "# plot feature importance\n",
    "plt.bar([x for x in range(len(importance))], importance)\n",
    "plt.show()"
   ]
  },
  {
   "cell_type": "markdown",
   "id": "a59114dd",
   "metadata": {},
   "source": [
    "1.importtant feature is lost_reason\n",
    "\n",
    "2.model score are F1-score: 0.86,Precision: 0.87,Recall: 0.86,Accuracy: 0.86"
   ]
  },
  {
   "cell_type": "code",
   "execution_count": null,
   "id": "d11d41f5",
   "metadata": {},
   "outputs": [],
   "source": [
    "status\tlost_reason\tmovein\troom_type\tmin_budget_week\tmax_budget_week\tlease\tyear\tmonth\tday_of_month"
   ]
  },
  {
   "cell_type": "markdown",
   "id": "bda29d05",
   "metadata": {},
   "source": [
    "# 4.Random Forest Classifier"
   ]
  },
  {
   "cell_type": "code",
   "execution_count": 98,
   "id": "c6a0e311",
   "metadata": {},
   "outputs": [
    {
     "name": "stdout",
     "output_type": "stream",
     "text": [
      "F1-score: 0.90\n",
      "Precision: 0.90\n",
      "Recall: 0.90\n",
      "Accuracy: 0.90\n"
     ]
    }
   ],
   "source": [
    "from sklearn.ensemble import RandomForestClassifier\n",
    "from sklearn.metrics import f1_score, precision_score, recall_score, accuracy_score\n",
    "clf = RandomForestClassifier(n_estimators=100, random_state=42)\n",
    "\n",
    "# train the classifier on the training set\n",
    "clf.fit(X_train, y_train)\n",
    "\n",
    "# predict the target values for the test set\n",
    "y_pred = clf.predict(X_test)\n",
    "\n",
    "# calculate the evaluation metrics\n",
    "f1 = f1_score(y_test, y_pred, average='macro')\n",
    "precision = precision_score(y_test, y_pred, average='macro')\n",
    "recall = recall_score(y_test, y_pred, average='macro')\n",
    "accuracy = accuracy_score(y_test, y_pred)\n",
    "\n",
    "# print the evaluation metrics\n",
    "print(f\"F1-score: {f1:.2f}\")\n",
    "print(f\"Precision: {precision:.2f}\")\n",
    "print(f\"Recall: {recall:.2f}\")\n",
    "print(f\"Accuracy: {accuracy:.2f}\")"
   ]
  },
  {
   "cell_type": "code",
   "execution_count": 99,
   "id": "95267ad6",
   "metadata": {},
   "outputs": [
    {
     "name": "stdout",
     "output_type": "stream",
     "text": [
      "Feature: 0, Score: 0.72195\n",
      "Feature: 1, Score: 0.02018\n",
      "Feature: 2, Score: 0.04120\n",
      "Feature: 3, Score: 0.03079\n",
      "Feature: 4, Score: 0.07385\n",
      "Feature: 5, Score: 0.02265\n",
      "Feature: 6, Score: 0.02748\n",
      "Feature: 7, Score: 0.03627\n",
      "Feature: 8, Score: 0.02564\n"
     ]
    },
    {
     "data": {
      "image/png": "[encoded data removed]",
      "text/plain": [
       "<Figure size 640x480 with 1 Axes>"
      ]
     },
     "metadata": {},
     "output_type": "display_data"
    }
   ],
   "source": [
    "# get importance\n",
    "importance = clf.feature_importances_\n",
    "# summarize feature importance\n",
    "for i,v in enumerate(importance):\n",
    "\tprint('Feature: %0d, Score: %.5f' % (i,v))\n",
    "# plot feature importance\n",
    "plt.bar([x for x in range(len(importance))], importance)\n",
    "plt.show()"
   ]
  },
  {
   "cell_type": "markdown",
   "id": "0244ffc6",
   "metadata": {},
   "source": [
    "1.important features are lost_reason,lease,min_budget_week,max_budget_week\n",
    "\n",
    "2.model accuracy 90% it is good model stiil we can improve using hyperparameter and croos validation techniques"
   ]
  },
  {
   "cell_type": "markdown",
   "id": "f01ba9f9",
   "metadata": {},
   "source": [
    "# Conclusion"
   ]
  },
  {
   "cell_type": "markdown",
   "id": "257cb5ee",
   "metadata": {},
   "source": [
    "1.i have implemented four models\n",
    "\n",
    "2.best model is Random Forest Classifier\n",
    "\n",
    "3.mportant features are lost_reason,lease,min_budget_week,max_budget_week"
   ]
  },
  {
   "cell_type": "code",
   "execution_count": null,
   "id": "107f1f3d",
   "metadata": {},
   "outputs": [],
   "source": []
  }
 ],
 "metadata": {
  "kernelspec": {
   "display_name": "Python 3 (ipykernel)",
   "language": "python",
   "name": "python3"
  },
  "language_info": {
   "codemirror_mode": {
    "name": "ipython",
    "version": 3
   },
   "file_extension": ".py",
   "mimetype": "text/x-python",
   "name": "python",
   "nbconvert_exporter": "python",
   "pygments_lexer": "ipython3",
   "version": "3.9.13"
  }
 },
 "nbformat": 4,
 "nbformat_minor": 5
}
